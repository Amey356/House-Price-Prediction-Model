{
 "cells": [
  {
   "cell_type": "code",
   "execution_count": 1,
   "id": "d39eabb7-16e9-4a6f-86a2-6470ee4a50d9",
   "metadata": {},
   "outputs": [
    {
     "data": {
      "text/html": [
       "<div>\n",
       "<style scoped>\n",
       "    .dataframe tbody tr th:only-of-type {\n",
       "        vertical-align: middle;\n",
       "    }\n",
       "\n",
       "    .dataframe tbody tr th {\n",
       "        vertical-align: top;\n",
       "    }\n",
       "\n",
       "    .dataframe thead th {\n",
       "        text-align: right;\n",
       "    }\n",
       "</style>\n",
       "<table border=\"1\" class=\"dataframe\">\n",
       "  <thead>\n",
       "    <tr style=\"text-align: right;\">\n",
       "      <th></th>\n",
       "      <th>Id</th>\n",
       "      <th>Area</th>\n",
       "      <th>Bedrooms</th>\n",
       "      <th>Bathrooms</th>\n",
       "      <th>Floors</th>\n",
       "      <th>YearBuilt</th>\n",
       "      <th>Location</th>\n",
       "      <th>Condition</th>\n",
       "      <th>Garage</th>\n",
       "      <th>Price</th>\n",
       "    </tr>\n",
       "  </thead>\n",
       "  <tbody>\n",
       "    <tr>\n",
       "      <th>0</th>\n",
       "      <td>1</td>\n",
       "      <td>1360</td>\n",
       "      <td>5</td>\n",
       "      <td>4</td>\n",
       "      <td>3</td>\n",
       "      <td>1970</td>\n",
       "      <td>Downtown</td>\n",
       "      <td>Excellent</td>\n",
       "      <td>No</td>\n",
       "      <td>149919</td>\n",
       "    </tr>\n",
       "    <tr>\n",
       "      <th>1</th>\n",
       "      <td>2</td>\n",
       "      <td>4272</td>\n",
       "      <td>5</td>\n",
       "      <td>4</td>\n",
       "      <td>3</td>\n",
       "      <td>1958</td>\n",
       "      <td>Downtown</td>\n",
       "      <td>Excellent</td>\n",
       "      <td>No</td>\n",
       "      <td>424998</td>\n",
       "    </tr>\n",
       "    <tr>\n",
       "      <th>2</th>\n",
       "      <td>3</td>\n",
       "      <td>3592</td>\n",
       "      <td>2</td>\n",
       "      <td>2</td>\n",
       "      <td>3</td>\n",
       "      <td>1938</td>\n",
       "      <td>Downtown</td>\n",
       "      <td>Good</td>\n",
       "      <td>No</td>\n",
       "      <td>266746</td>\n",
       "    </tr>\n",
       "    <tr>\n",
       "      <th>3</th>\n",
       "      <td>4</td>\n",
       "      <td>966</td>\n",
       "      <td>4</td>\n",
       "      <td>2</td>\n",
       "      <td>2</td>\n",
       "      <td>1902</td>\n",
       "      <td>Suburban</td>\n",
       "      <td>Fair</td>\n",
       "      <td>Yes</td>\n",
       "      <td>244020</td>\n",
       "    </tr>\n",
       "    <tr>\n",
       "      <th>4</th>\n",
       "      <td>5</td>\n",
       "      <td>4926</td>\n",
       "      <td>1</td>\n",
       "      <td>4</td>\n",
       "      <td>2</td>\n",
       "      <td>1975</td>\n",
       "      <td>Downtown</td>\n",
       "      <td>Fair</td>\n",
       "      <td>Yes</td>\n",
       "      <td>636056</td>\n",
       "    </tr>\n",
       "    <tr>\n",
       "      <th>...</th>\n",
       "      <td>...</td>\n",
       "      <td>...</td>\n",
       "      <td>...</td>\n",
       "      <td>...</td>\n",
       "      <td>...</td>\n",
       "      <td>...</td>\n",
       "      <td>...</td>\n",
       "      <td>...</td>\n",
       "      <td>...</td>\n",
       "      <td>...</td>\n",
       "    </tr>\n",
       "    <tr>\n",
       "      <th>1995</th>\n",
       "      <td>1996</td>\n",
       "      <td>4994</td>\n",
       "      <td>5</td>\n",
       "      <td>4</td>\n",
       "      <td>3</td>\n",
       "      <td>1923</td>\n",
       "      <td>Suburban</td>\n",
       "      <td>Poor</td>\n",
       "      <td>No</td>\n",
       "      <td>295620</td>\n",
       "    </tr>\n",
       "    <tr>\n",
       "      <th>1996</th>\n",
       "      <td>1997</td>\n",
       "      <td>3046</td>\n",
       "      <td>5</td>\n",
       "      <td>2</td>\n",
       "      <td>1</td>\n",
       "      <td>2019</td>\n",
       "      <td>Suburban</td>\n",
       "      <td>Poor</td>\n",
       "      <td>Yes</td>\n",
       "      <td>580929</td>\n",
       "    </tr>\n",
       "    <tr>\n",
       "      <th>1997</th>\n",
       "      <td>1998</td>\n",
       "      <td>1062</td>\n",
       "      <td>5</td>\n",
       "      <td>1</td>\n",
       "      <td>2</td>\n",
       "      <td>1903</td>\n",
       "      <td>Rural</td>\n",
       "      <td>Poor</td>\n",
       "      <td>No</td>\n",
       "      <td>476925</td>\n",
       "    </tr>\n",
       "    <tr>\n",
       "      <th>1998</th>\n",
       "      <td>1999</td>\n",
       "      <td>4062</td>\n",
       "      <td>3</td>\n",
       "      <td>1</td>\n",
       "      <td>2</td>\n",
       "      <td>1936</td>\n",
       "      <td>Urban</td>\n",
       "      <td>Excellent</td>\n",
       "      <td>Yes</td>\n",
       "      <td>161119</td>\n",
       "    </tr>\n",
       "    <tr>\n",
       "      <th>1999</th>\n",
       "      <td>2000</td>\n",
       "      <td>2989</td>\n",
       "      <td>5</td>\n",
       "      <td>1</td>\n",
       "      <td>3</td>\n",
       "      <td>1903</td>\n",
       "      <td>Suburban</td>\n",
       "      <td>Fair</td>\n",
       "      <td>No</td>\n",
       "      <td>482525</td>\n",
       "    </tr>\n",
       "  </tbody>\n",
       "</table>\n",
       "<p>2000 rows × 10 columns</p>\n",
       "</div>"
      ],
      "text/plain": [
       "        Id  Area  Bedrooms  Bathrooms  Floors  YearBuilt  Location  Condition  \\\n",
       "0        1  1360         5          4       3       1970  Downtown  Excellent   \n",
       "1        2  4272         5          4       3       1958  Downtown  Excellent   \n",
       "2        3  3592         2          2       3       1938  Downtown       Good   \n",
       "3        4   966         4          2       2       1902  Suburban       Fair   \n",
       "4        5  4926         1          4       2       1975  Downtown       Fair   \n",
       "...    ...   ...       ...        ...     ...        ...       ...        ...   \n",
       "1995  1996  4994         5          4       3       1923  Suburban       Poor   \n",
       "1996  1997  3046         5          2       1       2019  Suburban       Poor   \n",
       "1997  1998  1062         5          1       2       1903     Rural       Poor   \n",
       "1998  1999  4062         3          1       2       1936     Urban  Excellent   \n",
       "1999  2000  2989         5          1       3       1903  Suburban       Fair   \n",
       "\n",
       "     Garage   Price  \n",
       "0        No  149919  \n",
       "1        No  424998  \n",
       "2        No  266746  \n",
       "3       Yes  244020  \n",
       "4       Yes  636056  \n",
       "...     ...     ...  \n",
       "1995     No  295620  \n",
       "1996    Yes  580929  \n",
       "1997     No  476925  \n",
       "1998    Yes  161119  \n",
       "1999     No  482525  \n",
       "\n",
       "[2000 rows x 10 columns]"
      ]
     },
     "execution_count": 1,
     "metadata": {},
     "output_type": "execute_result"
    }
   ],
   "source": [
    "import pandas as pd\n",
    "import numpy as np\n",
    "import matplotlib.pyplot as plt\n",
    "\n",
    "data = pd.read_csv(r'C:\\Users\\91981\\Desktop\\Imarticus Course\\ML\\House Price Prediction Dataset.csv')\n",
    "data"
   ]
  },
  {
   "cell_type": "code",
   "execution_count": 2,
   "id": "af520d0f-eb0b-4b10-8de1-0b22276447a4",
   "metadata": {},
   "outputs": [],
   "source": [
    "data = data.iloc[:,1:]"
   ]
  },
  {
   "cell_type": "code",
   "execution_count": 3,
   "id": "896d765e-6e65-4054-b38b-d30cbea0f435",
   "metadata": {},
   "outputs": [
    {
     "data": {
      "text/html": [
       "<div>\n",
       "<style scoped>\n",
       "    .dataframe tbody tr th:only-of-type {\n",
       "        vertical-align: middle;\n",
       "    }\n",
       "\n",
       "    .dataframe tbody tr th {\n",
       "        vertical-align: top;\n",
       "    }\n",
       "\n",
       "    .dataframe thead th {\n",
       "        text-align: right;\n",
       "    }\n",
       "</style>\n",
       "<table border=\"1\" class=\"dataframe\">\n",
       "  <thead>\n",
       "    <tr style=\"text-align: right;\">\n",
       "      <th></th>\n",
       "      <th>Area</th>\n",
       "      <th>Bedrooms</th>\n",
       "      <th>Bathrooms</th>\n",
       "      <th>Floors</th>\n",
       "      <th>YearBuilt</th>\n",
       "      <th>Location</th>\n",
       "      <th>Condition</th>\n",
       "      <th>Garage</th>\n",
       "      <th>Price</th>\n",
       "    </tr>\n",
       "  </thead>\n",
       "  <tbody>\n",
       "    <tr>\n",
       "      <th>0</th>\n",
       "      <td>1360</td>\n",
       "      <td>5</td>\n",
       "      <td>4</td>\n",
       "      <td>3</td>\n",
       "      <td>1970</td>\n",
       "      <td>Downtown</td>\n",
       "      <td>Excellent</td>\n",
       "      <td>No</td>\n",
       "      <td>149919</td>\n",
       "    </tr>\n",
       "    <tr>\n",
       "      <th>1</th>\n",
       "      <td>4272</td>\n",
       "      <td>5</td>\n",
       "      <td>4</td>\n",
       "      <td>3</td>\n",
       "      <td>1958</td>\n",
       "      <td>Downtown</td>\n",
       "      <td>Excellent</td>\n",
       "      <td>No</td>\n",
       "      <td>424998</td>\n",
       "    </tr>\n",
       "    <tr>\n",
       "      <th>2</th>\n",
       "      <td>3592</td>\n",
       "      <td>2</td>\n",
       "      <td>2</td>\n",
       "      <td>3</td>\n",
       "      <td>1938</td>\n",
       "      <td>Downtown</td>\n",
       "      <td>Good</td>\n",
       "      <td>No</td>\n",
       "      <td>266746</td>\n",
       "    </tr>\n",
       "    <tr>\n",
       "      <th>3</th>\n",
       "      <td>966</td>\n",
       "      <td>4</td>\n",
       "      <td>2</td>\n",
       "      <td>2</td>\n",
       "      <td>1902</td>\n",
       "      <td>Suburban</td>\n",
       "      <td>Fair</td>\n",
       "      <td>Yes</td>\n",
       "      <td>244020</td>\n",
       "    </tr>\n",
       "    <tr>\n",
       "      <th>4</th>\n",
       "      <td>4926</td>\n",
       "      <td>1</td>\n",
       "      <td>4</td>\n",
       "      <td>2</td>\n",
       "      <td>1975</td>\n",
       "      <td>Downtown</td>\n",
       "      <td>Fair</td>\n",
       "      <td>Yes</td>\n",
       "      <td>636056</td>\n",
       "    </tr>\n",
       "    <tr>\n",
       "      <th>...</th>\n",
       "      <td>...</td>\n",
       "      <td>...</td>\n",
       "      <td>...</td>\n",
       "      <td>...</td>\n",
       "      <td>...</td>\n",
       "      <td>...</td>\n",
       "      <td>...</td>\n",
       "      <td>...</td>\n",
       "      <td>...</td>\n",
       "    </tr>\n",
       "    <tr>\n",
       "      <th>1995</th>\n",
       "      <td>4994</td>\n",
       "      <td>5</td>\n",
       "      <td>4</td>\n",
       "      <td>3</td>\n",
       "      <td>1923</td>\n",
       "      <td>Suburban</td>\n",
       "      <td>Poor</td>\n",
       "      <td>No</td>\n",
       "      <td>295620</td>\n",
       "    </tr>\n",
       "    <tr>\n",
       "      <th>1996</th>\n",
       "      <td>3046</td>\n",
       "      <td>5</td>\n",
       "      <td>2</td>\n",
       "      <td>1</td>\n",
       "      <td>2019</td>\n",
       "      <td>Suburban</td>\n",
       "      <td>Poor</td>\n",
       "      <td>Yes</td>\n",
       "      <td>580929</td>\n",
       "    </tr>\n",
       "    <tr>\n",
       "      <th>1997</th>\n",
       "      <td>1062</td>\n",
       "      <td>5</td>\n",
       "      <td>1</td>\n",
       "      <td>2</td>\n",
       "      <td>1903</td>\n",
       "      <td>Rural</td>\n",
       "      <td>Poor</td>\n",
       "      <td>No</td>\n",
       "      <td>476925</td>\n",
       "    </tr>\n",
       "    <tr>\n",
       "      <th>1998</th>\n",
       "      <td>4062</td>\n",
       "      <td>3</td>\n",
       "      <td>1</td>\n",
       "      <td>2</td>\n",
       "      <td>1936</td>\n",
       "      <td>Urban</td>\n",
       "      <td>Excellent</td>\n",
       "      <td>Yes</td>\n",
       "      <td>161119</td>\n",
       "    </tr>\n",
       "    <tr>\n",
       "      <th>1999</th>\n",
       "      <td>2989</td>\n",
       "      <td>5</td>\n",
       "      <td>1</td>\n",
       "      <td>3</td>\n",
       "      <td>1903</td>\n",
       "      <td>Suburban</td>\n",
       "      <td>Fair</td>\n",
       "      <td>No</td>\n",
       "      <td>482525</td>\n",
       "    </tr>\n",
       "  </tbody>\n",
       "</table>\n",
       "<p>2000 rows × 9 columns</p>\n",
       "</div>"
      ],
      "text/plain": [
       "      Area  Bedrooms  Bathrooms  Floors  YearBuilt  Location  Condition  \\\n",
       "0     1360         5          4       3       1970  Downtown  Excellent   \n",
       "1     4272         5          4       3       1958  Downtown  Excellent   \n",
       "2     3592         2          2       3       1938  Downtown       Good   \n",
       "3      966         4          2       2       1902  Suburban       Fair   \n",
       "4     4926         1          4       2       1975  Downtown       Fair   \n",
       "...    ...       ...        ...     ...        ...       ...        ...   \n",
       "1995  4994         5          4       3       1923  Suburban       Poor   \n",
       "1996  3046         5          2       1       2019  Suburban       Poor   \n",
       "1997  1062         5          1       2       1903     Rural       Poor   \n",
       "1998  4062         3          1       2       1936     Urban  Excellent   \n",
       "1999  2989         5          1       3       1903  Suburban       Fair   \n",
       "\n",
       "     Garage   Price  \n",
       "0        No  149919  \n",
       "1        No  424998  \n",
       "2        No  266746  \n",
       "3       Yes  244020  \n",
       "4       Yes  636056  \n",
       "...     ...     ...  \n",
       "1995     No  295620  \n",
       "1996    Yes  580929  \n",
       "1997     No  476925  \n",
       "1998    Yes  161119  \n",
       "1999     No  482525  \n",
       "\n",
       "[2000 rows x 9 columns]"
      ]
     },
     "execution_count": 3,
     "metadata": {},
     "output_type": "execute_result"
    }
   ],
   "source": [
    "data"
   ]
  },
  {
   "cell_type": "code",
   "execution_count": 4,
   "id": "af141e61-502f-484b-aa17-1e8de0d1f28b",
   "metadata": {},
   "outputs": [
    {
     "name": "stdout",
     "output_type": "stream",
     "text": [
      "Bedrooms 5 [5 2 4 1 3]\n",
      "Bathrooms 4 [4 2 1 3]\n",
      "Floors 3 [3 2 1]\n",
      "Location 4 ['Downtown' 'Suburban' 'Urban' 'Rural']\n",
      "Condition 4 ['Excellent' 'Good' 'Fair' 'Poor']\n",
      "Garage 2 ['No' 'Yes']\n"
     ]
    }
   ],
   "source": [
    "cat = []\n",
    "num = []\n",
    "\n",
    "for i in data.columns:\n",
    "    if data[i].nunique() < 10:\n",
    "        print(i,data[i].nunique(), data[i].unique())\n",
    "        cat.append(i)\n",
    "    else:\n",
    "        num.append(i)"
   ]
  },
  {
   "cell_type": "code",
   "execution_count": 5,
   "id": "85867beb-7a2d-4f5d-b7ac-a32e5b6599ec",
   "metadata": {},
   "outputs": [
    {
     "data": {
      "text/plain": [
       "['Bedrooms', 'Bathrooms', 'Floors', 'Location', 'Condition', 'Garage']"
      ]
     },
     "execution_count": 5,
     "metadata": {},
     "output_type": "execute_result"
    }
   ],
   "source": [
    "cat"
   ]
  },
  {
   "cell_type": "code",
   "execution_count": 6,
   "id": "d364a3e4-98fd-40a6-98e4-1a779d573f44",
   "metadata": {},
   "outputs": [
    {
     "data": {
      "text/plain": [
       "['Area', 'YearBuilt', 'Price']"
      ]
     },
     "execution_count": 6,
     "metadata": {},
     "output_type": "execute_result"
    }
   ],
   "source": [
    "num"
   ]
  },
  {
   "cell_type": "code",
   "execution_count": 7,
   "id": "efea35fb-352a-42f3-a953-6f324d2fe5f2",
   "metadata": {},
   "outputs": [
    {
     "data": {
      "text/plain": [
       "Bedrooms\n",
       "1    418\n",
       "3    406\n",
       "4    405\n",
       "5    403\n",
       "2    368\n",
       "Name: count, dtype: int64"
      ]
     },
     "execution_count": 7,
     "metadata": {},
     "output_type": "execute_result"
    }
   ],
   "source": [
    "data['Bedrooms'].value_counts()"
   ]
  },
  {
   "cell_type": "code",
   "execution_count": 8,
   "id": "91aa3ab9-fe98-4135-8ec0-7468b5933efe",
   "metadata": {},
   "outputs": [
    {
     "data": {
      "image/png": "[encoded data removed]",
      "text/plain": [
       "<Figure size 640x480 with 1 Axes>"
      ]
     },
     "metadata": {},
     "output_type": "display_data"
    }
   ],
   "source": [
    "# Category\n",
    "\n",
    "vc = data['Bedrooms'].value_counts()\n",
    "plt.bar(vc.index, height = vc , color = 'b')\n",
    "plt.xlabel('Bedrooms')\n",
    "plt.ylabel('Count')\n",
    "plt.show()"
   ]
  },
  {
   "cell_type": "code",
   "execution_count": 9,
   "id": "a5446258-008e-4c25-97e7-e1a08e97e6c9",
   "metadata": {},
   "outputs": [
    {
     "data": {
      "image/png": "[encoded data removed]",
      "text/plain": [
       "<Figure size 640x480 with 1 Axes>"
      ]
     },
     "metadata": {},
     "output_type": "display_data"
    },
    {
     "data": {
      "image/png": "[encoded data removed]",
      "text/plain": [
       "<Figure size 640x480 with 1 Axes>"
      ]
     },
     "metadata": {},
     "output_type": "display_data"
    },
    {
     "data": {
      "image/png": "[encoded data removed]",
      "text/plain": [
       "<Figure size 640x480 with 1 Axes>"
      ]
     },
     "metadata": {},
     "output_type": "display_data"
    },
    {
     "data": {
      "image/png": "[encoded data removed]",
      "text/plain": [
       "<Figure size 640x480 with 1 Axes>"
      ]
     },
     "metadata": {},
     "output_type": "display_data"
    },
    {
     "data": {
      "image/png": "[encoded data removed]",
      "text/plain": [
       "<Figure size 640x480 with 1 Axes>"
      ]
     },
     "metadata": {},
     "output_type": "display_data"
    },
    {
     "data": {
      "image/png": "[encoded data removed]",
      "text/plain": [
       "<Figure size 640x480 with 1 Axes>"
      ]
     },
     "metadata": {},
     "output_type": "display_data"
    }
   ],
   "source": [
    "for i in cat:\n",
    "    vc = data[i].value_counts()\n",
    "    plt.bar(vc.index, height = vc , color = 'c')\n",
    "    plt.xlabel(i)\n",
    "    plt.ylabel('Count')\n",
    "    plt.show()"
   ]
  },
  {
   "cell_type": "code",
   "execution_count": 10,
   "id": "0265835c-515a-4935-8666-0f8ec2637fa9",
   "metadata": {},
   "outputs": [
    {
     "data": {
      "image/png": "[encoded data removed]",
      "text/plain": [
       "<Figure size 640x480 with 2 Axes>"
      ]
     },
     "metadata": {},
     "output_type": "display_data"
    }
   ],
   "source": [
    "fig, ax = plt.subplots(1,2)\n",
    "ax[0].hist(data['Area'])\n",
    "ax[1].boxplot(data['Area'])\n",
    "plt.show()"
   ]
  },
  {
   "cell_type": "code",
   "execution_count": 11,
   "id": "d2935100-028e-4d4c-80be-b0d8ac89c448",
   "metadata": {},
   "outputs": [
    {
     "data": {
      "image/png": "[encoded data removed]",
      "text/plain": [
       "<Figure size 640x480 with 2 Axes>"
      ]
     },
     "metadata": {},
     "output_type": "display_data"
    },
    {
     "data": {
      "image/png": "[encoded data removed]",
      "text/plain": [
       "<Figure size 640x480 with 2 Axes>"
      ]
     },
     "metadata": {},
     "output_type": "display_data"
    },
    {
     "data": {
      "image/png": "[encoded data removed]",
      "text/plain": [
       "<Figure size 640x480 with 2 Axes>"
      ]
     },
     "metadata": {},
     "output_type": "display_data"
    }
   ],
   "source": [
    "\n",
    "# Numerical\n",
    "\n",
    "\n",
    "for i in num:\n",
    "    fig, ax = plt.subplots(1,2)\n",
    "    ax[0].hist(data[i],color = 'c')\n",
    "    ax[1].boxplot(data[i])\n",
    "    plt.suptitle(i)\n",
    "    plt.show()"
   ]
  },
  {
   "cell_type": "code",
   "execution_count": 12,
   "id": "602dae47-6043-4862-b482-59ee0260f3e8",
   "metadata": {},
   "outputs": [
    {
     "data": {
      "text/plain": [
       "<matplotlib.collections.PathCollection at 0x2944db2c5d0>"
      ]
     },
     "execution_count": 12,
     "metadata": {},
     "output_type": "execute_result"
    },
    {
     "data": {
      "image/png": "[encoded data removed]",
      "text/plain": [
       "<Figure size 640x480 with 1 Axes>"
      ]
     },
     "metadata": {},
     "output_type": "display_data"
    }
   ],
   "source": [
    "plt.scatter(data['YearBuilt'], data['Price'])"
   ]
  },
  {
   "cell_type": "code",
   "execution_count": 13,
   "id": "06ef5c4c-690a-4a37-9ee9-6cf2198d7181",
   "metadata": {},
   "outputs": [],
   "source": [
    "# One hot encoder \n",
    "\n",
    "from sklearn.preprocessing import OneHotEncoder"
   ]
  },
  {
   "cell_type": "code",
   "execution_count": 14,
   "id": "e493c7e6-3949-485b-9e7d-a6d7bfe5ced2",
   "metadata": {},
   "outputs": [
    {
     "data": {
      "text/plain": [
       "array([[1., 0., 0., 0.],\n",
       "       [1., 0., 0., 0.],\n",
       "       [1., 0., 0., 0.],\n",
       "       ...,\n",
       "       [0., 1., 0., 0.],\n",
       "       [0., 0., 0., 1.],\n",
       "       [0., 0., 1., 0.]])"
      ]
     },
     "execution_count": 14,
     "metadata": {},
     "output_type": "execute_result"
    }
   ],
   "source": [
    "ohe = OneHotEncoder(sparse_output = False)\n",
    "locations = ohe.fit_transform(data[['Location']])\n",
    "locations\n"
   ]
  },
  {
   "cell_type": "code",
   "execution_count": 15,
   "id": "1b386f99-0867-4fab-81cc-a50cef860074",
   "metadata": {},
   "outputs": [
    {
     "data": {
      "text/plain": [
       "0       Downtown\n",
       "1       Downtown\n",
       "2       Downtown\n",
       "3       Suburban\n",
       "4       Downtown\n",
       "          ...   \n",
       "1995    Suburban\n",
       "1996    Suburban\n",
       "1997       Rural\n",
       "1998       Urban\n",
       "1999    Suburban\n",
       "Name: Location, Length: 2000, dtype: object"
      ]
     },
     "execution_count": 15,
     "metadata": {},
     "output_type": "execute_result"
    }
   ],
   "source": [
    "data['Location']"
   ]
  },
  {
   "cell_type": "code",
   "execution_count": 16,
   "id": "cf0e6dd2-5736-4a20-902a-83b3a034c82f",
   "metadata": {},
   "outputs": [
    {
     "data": {
      "text/plain": [
       "[array(['Downtown', 'Rural', 'Suburban', 'Urban'], dtype=object)]"
      ]
     },
     "execution_count": 16,
     "metadata": {},
     "output_type": "execute_result"
    }
   ],
   "source": [
    "ohe.categories_"
   ]
  },
  {
   "cell_type": "code",
   "execution_count": 17,
   "id": "689bc1c6-6d56-4a31-b494-498ce336dc08",
   "metadata": {},
   "outputs": [],
   "source": [
    "location_df = pd.DataFrame(locations, columns = ohe.categories_)\n",
    "location_df = location_df.iloc[:,1:]"
   ]
  },
  {
   "cell_type": "code",
   "execution_count": 18,
   "id": "003846e3-75e3-4a08-b762-e55c1bcb1296",
   "metadata": {},
   "outputs": [
    {
     "data": {
      "text/html": [
       "<div>\n",
       "<style scoped>\n",
       "    .dataframe tbody tr th:only-of-type {\n",
       "        vertical-align: middle;\n",
       "    }\n",
       "\n",
       "    .dataframe tbody tr th {\n",
       "        vertical-align: top;\n",
       "    }\n",
       "\n",
       "    .dataframe thead th {\n",
       "        text-align: right;\n",
       "    }\n",
       "</style>\n",
       "<table border=\"1\" class=\"dataframe\">\n",
       "  <thead>\n",
       "    <tr style=\"text-align: right;\">\n",
       "      <th></th>\n",
       "      <th>Area</th>\n",
       "      <th>Bedrooms</th>\n",
       "      <th>Bathrooms</th>\n",
       "      <th>Floors</th>\n",
       "      <th>YearBuilt</th>\n",
       "      <th>Location</th>\n",
       "      <th>Condition</th>\n",
       "      <th>Garage</th>\n",
       "      <th>Price</th>\n",
       "      <th>(Rural,)</th>\n",
       "      <th>(Suburban,)</th>\n",
       "      <th>(Urban,)</th>\n",
       "    </tr>\n",
       "  </thead>\n",
       "  <tbody>\n",
       "    <tr>\n",
       "      <th>0</th>\n",
       "      <td>1360</td>\n",
       "      <td>5</td>\n",
       "      <td>4</td>\n",
       "      <td>3</td>\n",
       "      <td>1970</td>\n",
       "      <td>Downtown</td>\n",
       "      <td>Excellent</td>\n",
       "      <td>No</td>\n",
       "      <td>149919</td>\n",
       "      <td>0.0</td>\n",
       "      <td>0.0</td>\n",
       "      <td>0.0</td>\n",
       "    </tr>\n",
       "    <tr>\n",
       "      <th>1</th>\n",
       "      <td>4272</td>\n",
       "      <td>5</td>\n",
       "      <td>4</td>\n",
       "      <td>3</td>\n",
       "      <td>1958</td>\n",
       "      <td>Downtown</td>\n",
       "      <td>Excellent</td>\n",
       "      <td>No</td>\n",
       "      <td>424998</td>\n",
       "      <td>0.0</td>\n",
       "      <td>0.0</td>\n",
       "      <td>0.0</td>\n",
       "    </tr>\n",
       "    <tr>\n",
       "      <th>2</th>\n",
       "      <td>3592</td>\n",
       "      <td>2</td>\n",
       "      <td>2</td>\n",
       "      <td>3</td>\n",
       "      <td>1938</td>\n",
       "      <td>Downtown</td>\n",
       "      <td>Good</td>\n",
       "      <td>No</td>\n",
       "      <td>266746</td>\n",
       "      <td>0.0</td>\n",
       "      <td>0.0</td>\n",
       "      <td>0.0</td>\n",
       "    </tr>\n",
       "    <tr>\n",
       "      <th>3</th>\n",
       "      <td>966</td>\n",
       "      <td>4</td>\n",
       "      <td>2</td>\n",
       "      <td>2</td>\n",
       "      <td>1902</td>\n",
       "      <td>Suburban</td>\n",
       "      <td>Fair</td>\n",
       "      <td>Yes</td>\n",
       "      <td>244020</td>\n",
       "      <td>0.0</td>\n",
       "      <td>1.0</td>\n",
       "      <td>0.0</td>\n",
       "    </tr>\n",
       "    <tr>\n",
       "      <th>4</th>\n",
       "      <td>4926</td>\n",
       "      <td>1</td>\n",
       "      <td>4</td>\n",
       "      <td>2</td>\n",
       "      <td>1975</td>\n",
       "      <td>Downtown</td>\n",
       "      <td>Fair</td>\n",
       "      <td>Yes</td>\n",
       "      <td>636056</td>\n",
       "      <td>0.0</td>\n",
       "      <td>0.0</td>\n",
       "      <td>0.0</td>\n",
       "    </tr>\n",
       "    <tr>\n",
       "      <th>...</th>\n",
       "      <td>...</td>\n",
       "      <td>...</td>\n",
       "      <td>...</td>\n",
       "      <td>...</td>\n",
       "      <td>...</td>\n",
       "      <td>...</td>\n",
       "      <td>...</td>\n",
       "      <td>...</td>\n",
       "      <td>...</td>\n",
       "      <td>...</td>\n",
       "      <td>...</td>\n",
       "      <td>...</td>\n",
       "    </tr>\n",
       "    <tr>\n",
       "      <th>1995</th>\n",
       "      <td>4994</td>\n",
       "      <td>5</td>\n",
       "      <td>4</td>\n",
       "      <td>3</td>\n",
       "      <td>1923</td>\n",
       "      <td>Suburban</td>\n",
       "      <td>Poor</td>\n",
       "      <td>No</td>\n",
       "      <td>295620</td>\n",
       "      <td>0.0</td>\n",
       "      <td>1.0</td>\n",
       "      <td>0.0</td>\n",
       "    </tr>\n",
       "    <tr>\n",
       "      <th>1996</th>\n",
       "      <td>3046</td>\n",
       "      <td>5</td>\n",
       "      <td>2</td>\n",
       "      <td>1</td>\n",
       "      <td>2019</td>\n",
       "      <td>Suburban</td>\n",
       "      <td>Poor</td>\n",
       "      <td>Yes</td>\n",
       "      <td>580929</td>\n",
       "      <td>0.0</td>\n",
       "      <td>1.0</td>\n",
       "      <td>0.0</td>\n",
       "    </tr>\n",
       "    <tr>\n",
       "      <th>1997</th>\n",
       "      <td>1062</td>\n",
       "      <td>5</td>\n",
       "      <td>1</td>\n",
       "      <td>2</td>\n",
       "      <td>1903</td>\n",
       "      <td>Rural</td>\n",
       "      <td>Poor</td>\n",
       "      <td>No</td>\n",
       "      <td>476925</td>\n",
       "      <td>1.0</td>\n",
       "      <td>0.0</td>\n",
       "      <td>0.0</td>\n",
       "    </tr>\n",
       "    <tr>\n",
       "      <th>1998</th>\n",
       "      <td>4062</td>\n",
       "      <td>3</td>\n",
       "      <td>1</td>\n",
       "      <td>2</td>\n",
       "      <td>1936</td>\n",
       "      <td>Urban</td>\n",
       "      <td>Excellent</td>\n",
       "      <td>Yes</td>\n",
       "      <td>161119</td>\n",
       "      <td>0.0</td>\n",
       "      <td>0.0</td>\n",
       "      <td>1.0</td>\n",
       "    </tr>\n",
       "    <tr>\n",
       "      <th>1999</th>\n",
       "      <td>2989</td>\n",
       "      <td>5</td>\n",
       "      <td>1</td>\n",
       "      <td>3</td>\n",
       "      <td>1903</td>\n",
       "      <td>Suburban</td>\n",
       "      <td>Fair</td>\n",
       "      <td>No</td>\n",
       "      <td>482525</td>\n",
       "      <td>0.0</td>\n",
       "      <td>1.0</td>\n",
       "      <td>0.0</td>\n",
       "    </tr>\n",
       "  </tbody>\n",
       "</table>\n",
       "<p>2000 rows × 12 columns</p>\n",
       "</div>"
      ],
      "text/plain": [
       "      Area  Bedrooms  Bathrooms  Floors  YearBuilt  Location  Condition  \\\n",
       "0     1360         5          4       3       1970  Downtown  Excellent   \n",
       "1     4272         5          4       3       1958  Downtown  Excellent   \n",
       "2     3592         2          2       3       1938  Downtown       Good   \n",
       "3      966         4          2       2       1902  Suburban       Fair   \n",
       "4     4926         1          4       2       1975  Downtown       Fair   \n",
       "...    ...       ...        ...     ...        ...       ...        ...   \n",
       "1995  4994         5          4       3       1923  Suburban       Poor   \n",
       "1996  3046         5          2       1       2019  Suburban       Poor   \n",
       "1997  1062         5          1       2       1903     Rural       Poor   \n",
       "1998  4062         3          1       2       1936     Urban  Excellent   \n",
       "1999  2989         5          1       3       1903  Suburban       Fair   \n",
       "\n",
       "     Garage   Price  (Rural,)  (Suburban,)  (Urban,)  \n",
       "0        No  149919       0.0          0.0       0.0  \n",
       "1        No  424998       0.0          0.0       0.0  \n",
       "2        No  266746       0.0          0.0       0.0  \n",
       "3       Yes  244020       0.0          1.0       0.0  \n",
       "4       Yes  636056       0.0          0.0       0.0  \n",
       "...     ...     ...       ...          ...       ...  \n",
       "1995     No  295620       0.0          1.0       0.0  \n",
       "1996    Yes  580929       0.0          1.0       0.0  \n",
       "1997     No  476925       1.0          0.0       0.0  \n",
       "1998    Yes  161119       0.0          0.0       1.0  \n",
       "1999     No  482525       0.0          1.0       0.0  \n",
       "\n",
       "[2000 rows x 12 columns]"
      ]
     },
     "execution_count": 18,
     "metadata": {},
     "output_type": "execute_result"
    }
   ],
   "source": [
    "data = pd.concat([data, location_df], axis = 1)\n",
    "data"
   ]
  },
  {
   "cell_type": "code",
   "execution_count": 19,
   "id": "97f6d411-ed67-471b-be00-b0bc124cac11",
   "metadata": {},
   "outputs": [
    {
     "data": {
      "text/html": [
       "<div>\n",
       "<style scoped>\n",
       "    .dataframe tbody tr th:only-of-type {\n",
       "        vertical-align: middle;\n",
       "    }\n",
       "\n",
       "    .dataframe tbody tr th {\n",
       "        vertical-align: top;\n",
       "    }\n",
       "\n",
       "    .dataframe thead th {\n",
       "        text-align: right;\n",
       "    }\n",
       "</style>\n",
       "<table border=\"1\" class=\"dataframe\">\n",
       "  <thead>\n",
       "    <tr style=\"text-align: right;\">\n",
       "      <th></th>\n",
       "      <th>Area</th>\n",
       "      <th>Bedrooms</th>\n",
       "      <th>Bathrooms</th>\n",
       "      <th>Floors</th>\n",
       "      <th>YearBuilt</th>\n",
       "      <th>Location</th>\n",
       "      <th>Condition</th>\n",
       "      <th>Garage</th>\n",
       "      <th>Price</th>\n",
       "      <th>(Rural,)</th>\n",
       "      <th>(Suburban,)</th>\n",
       "      <th>(Urban,)</th>\n",
       "    </tr>\n",
       "  </thead>\n",
       "  <tbody>\n",
       "    <tr>\n",
       "      <th>0</th>\n",
       "      <td>1360</td>\n",
       "      <td>5</td>\n",
       "      <td>4</td>\n",
       "      <td>3</td>\n",
       "      <td>1970</td>\n",
       "      <td>Downtown</td>\n",
       "      <td>Excellent</td>\n",
       "      <td>No</td>\n",
       "      <td>149919</td>\n",
       "      <td>0.0</td>\n",
       "      <td>0.0</td>\n",
       "      <td>0.0</td>\n",
       "    </tr>\n",
       "    <tr>\n",
       "      <th>1</th>\n",
       "      <td>4272</td>\n",
       "      <td>5</td>\n",
       "      <td>4</td>\n",
       "      <td>3</td>\n",
       "      <td>1958</td>\n",
       "      <td>Downtown</td>\n",
       "      <td>Excellent</td>\n",
       "      <td>No</td>\n",
       "      <td>424998</td>\n",
       "      <td>0.0</td>\n",
       "      <td>0.0</td>\n",
       "      <td>0.0</td>\n",
       "    </tr>\n",
       "    <tr>\n",
       "      <th>2</th>\n",
       "      <td>3592</td>\n",
       "      <td>2</td>\n",
       "      <td>2</td>\n",
       "      <td>3</td>\n",
       "      <td>1938</td>\n",
       "      <td>Downtown</td>\n",
       "      <td>Good</td>\n",
       "      <td>No</td>\n",
       "      <td>266746</td>\n",
       "      <td>0.0</td>\n",
       "      <td>0.0</td>\n",
       "      <td>0.0</td>\n",
       "    </tr>\n",
       "    <tr>\n",
       "      <th>3</th>\n",
       "      <td>966</td>\n",
       "      <td>4</td>\n",
       "      <td>2</td>\n",
       "      <td>2</td>\n",
       "      <td>1902</td>\n",
       "      <td>Suburban</td>\n",
       "      <td>Fair</td>\n",
       "      <td>Yes</td>\n",
       "      <td>244020</td>\n",
       "      <td>0.0</td>\n",
       "      <td>1.0</td>\n",
       "      <td>0.0</td>\n",
       "    </tr>\n",
       "    <tr>\n",
       "      <th>4</th>\n",
       "      <td>4926</td>\n",
       "      <td>1</td>\n",
       "      <td>4</td>\n",
       "      <td>2</td>\n",
       "      <td>1975</td>\n",
       "      <td>Downtown</td>\n",
       "      <td>Fair</td>\n",
       "      <td>Yes</td>\n",
       "      <td>636056</td>\n",
       "      <td>0.0</td>\n",
       "      <td>0.0</td>\n",
       "      <td>0.0</td>\n",
       "    </tr>\n",
       "    <tr>\n",
       "      <th>...</th>\n",
       "      <td>...</td>\n",
       "      <td>...</td>\n",
       "      <td>...</td>\n",
       "      <td>...</td>\n",
       "      <td>...</td>\n",
       "      <td>...</td>\n",
       "      <td>...</td>\n",
       "      <td>...</td>\n",
       "      <td>...</td>\n",
       "      <td>...</td>\n",
       "      <td>...</td>\n",
       "      <td>...</td>\n",
       "    </tr>\n",
       "    <tr>\n",
       "      <th>1995</th>\n",
       "      <td>4994</td>\n",
       "      <td>5</td>\n",
       "      <td>4</td>\n",
       "      <td>3</td>\n",
       "      <td>1923</td>\n",
       "      <td>Suburban</td>\n",
       "      <td>Poor</td>\n",
       "      <td>No</td>\n",
       "      <td>295620</td>\n",
       "      <td>0.0</td>\n",
       "      <td>1.0</td>\n",
       "      <td>0.0</td>\n",
       "    </tr>\n",
       "    <tr>\n",
       "      <th>1996</th>\n",
       "      <td>3046</td>\n",
       "      <td>5</td>\n",
       "      <td>2</td>\n",
       "      <td>1</td>\n",
       "      <td>2019</td>\n",
       "      <td>Suburban</td>\n",
       "      <td>Poor</td>\n",
       "      <td>Yes</td>\n",
       "      <td>580929</td>\n",
       "      <td>0.0</td>\n",
       "      <td>1.0</td>\n",
       "      <td>0.0</td>\n",
       "    </tr>\n",
       "    <tr>\n",
       "      <th>1997</th>\n",
       "      <td>1062</td>\n",
       "      <td>5</td>\n",
       "      <td>1</td>\n",
       "      <td>2</td>\n",
       "      <td>1903</td>\n",
       "      <td>Rural</td>\n",
       "      <td>Poor</td>\n",
       "      <td>No</td>\n",
       "      <td>476925</td>\n",
       "      <td>1.0</td>\n",
       "      <td>0.0</td>\n",
       "      <td>0.0</td>\n",
       "    </tr>\n",
       "    <tr>\n",
       "      <th>1998</th>\n",
       "      <td>4062</td>\n",
       "      <td>3</td>\n",
       "      <td>1</td>\n",
       "      <td>2</td>\n",
       "      <td>1936</td>\n",
       "      <td>Urban</td>\n",
       "      <td>Excellent</td>\n",
       "      <td>Yes</td>\n",
       "      <td>161119</td>\n",
       "      <td>0.0</td>\n",
       "      <td>0.0</td>\n",
       "      <td>1.0</td>\n",
       "    </tr>\n",
       "    <tr>\n",
       "      <th>1999</th>\n",
       "      <td>2989</td>\n",
       "      <td>5</td>\n",
       "      <td>1</td>\n",
       "      <td>3</td>\n",
       "      <td>1903</td>\n",
       "      <td>Suburban</td>\n",
       "      <td>Fair</td>\n",
       "      <td>No</td>\n",
       "      <td>482525</td>\n",
       "      <td>0.0</td>\n",
       "      <td>1.0</td>\n",
       "      <td>0.0</td>\n",
       "    </tr>\n",
       "  </tbody>\n",
       "</table>\n",
       "<p>2000 rows × 12 columns</p>\n",
       "</div>"
      ],
      "text/plain": [
       "      Area  Bedrooms  Bathrooms  Floors  YearBuilt  Location  Condition  \\\n",
       "0     1360         5          4       3       1970  Downtown  Excellent   \n",
       "1     4272         5          4       3       1958  Downtown  Excellent   \n",
       "2     3592         2          2       3       1938  Downtown       Good   \n",
       "3      966         4          2       2       1902  Suburban       Fair   \n",
       "4     4926         1          4       2       1975  Downtown       Fair   \n",
       "...    ...       ...        ...     ...        ...       ...        ...   \n",
       "1995  4994         5          4       3       1923  Suburban       Poor   \n",
       "1996  3046         5          2       1       2019  Suburban       Poor   \n",
       "1997  1062         5          1       2       1903     Rural       Poor   \n",
       "1998  4062         3          1       2       1936     Urban  Excellent   \n",
       "1999  2989         5          1       3       1903  Suburban       Fair   \n",
       "\n",
       "     Garage   Price  (Rural,)  (Suburban,)  (Urban,)  \n",
       "0        No  149919       0.0          0.0       0.0  \n",
       "1        No  424998       0.0          0.0       0.0  \n",
       "2        No  266746       0.0          0.0       0.0  \n",
       "3       Yes  244020       0.0          1.0       0.0  \n",
       "4       Yes  636056       0.0          0.0       0.0  \n",
       "...     ...     ...       ...          ...       ...  \n",
       "1995     No  295620       0.0          1.0       0.0  \n",
       "1996    Yes  580929       0.0          1.0       0.0  \n",
       "1997     No  476925       1.0          0.0       0.0  \n",
       "1998    Yes  161119       0.0          0.0       1.0  \n",
       "1999     No  482525       0.0          1.0       0.0  \n",
       "\n",
       "[2000 rows x 12 columns]"
      ]
     },
     "execution_count": 19,
     "metadata": {},
     "output_type": "execute_result"
    }
   ],
   "source": [
    "data"
   ]
  },
  {
   "cell_type": "code",
   "execution_count": 20,
   "id": "50115c2d-94fa-458a-94bb-1956d0790fa1",
   "metadata": {},
   "outputs": [
    {
     "data": {
      "text/plain": [
       "4"
      ]
     },
     "execution_count": 20,
     "metadata": {},
     "output_type": "execute_result"
    }
   ],
   "source": [
    "data['Condition'].nunique()   # Ordinal data "
   ]
  },
  {
   "cell_type": "code",
   "execution_count": 21,
   "id": "e94bd891-824d-4fc7-b865-7858c77e5d4d",
   "metadata": {},
   "outputs": [],
   "source": [
    "data['Condition'] = data[['Condition']].replace(to_replace = ['Excellent','Good','Fair','Poor'], value = [3,2,1,0])"
   ]
  },
  {
   "cell_type": "code",
   "execution_count": 22,
   "id": "7e89b838-64e2-4538-8a36-326ebda13680",
   "metadata": {},
   "outputs": [
    {
     "data": {
      "text/html": [
       "<div>\n",
       "<style scoped>\n",
       "    .dataframe tbody tr th:only-of-type {\n",
       "        vertical-align: middle;\n",
       "    }\n",
       "\n",
       "    .dataframe tbody tr th {\n",
       "        vertical-align: top;\n",
       "    }\n",
       "\n",
       "    .dataframe thead th {\n",
       "        text-align: right;\n",
       "    }\n",
       "</style>\n",
       "<table border=\"1\" class=\"dataframe\">\n",
       "  <thead>\n",
       "    <tr style=\"text-align: right;\">\n",
       "      <th></th>\n",
       "      <th>Area</th>\n",
       "      <th>Bedrooms</th>\n",
       "      <th>Bathrooms</th>\n",
       "      <th>Floors</th>\n",
       "      <th>YearBuilt</th>\n",
       "      <th>Location</th>\n",
       "      <th>Condition</th>\n",
       "      <th>Garage</th>\n",
       "      <th>Price</th>\n",
       "      <th>(Rural,)</th>\n",
       "      <th>(Suburban,)</th>\n",
       "      <th>(Urban,)</th>\n",
       "    </tr>\n",
       "  </thead>\n",
       "  <tbody>\n",
       "    <tr>\n",
       "      <th>0</th>\n",
       "      <td>1360</td>\n",
       "      <td>5</td>\n",
       "      <td>4</td>\n",
       "      <td>3</td>\n",
       "      <td>1970</td>\n",
       "      <td>Downtown</td>\n",
       "      <td>3</td>\n",
       "      <td>No</td>\n",
       "      <td>149919</td>\n",
       "      <td>0.0</td>\n",
       "      <td>0.0</td>\n",
       "      <td>0.0</td>\n",
       "    </tr>\n",
       "    <tr>\n",
       "      <th>1</th>\n",
       "      <td>4272</td>\n",
       "      <td>5</td>\n",
       "      <td>4</td>\n",
       "      <td>3</td>\n",
       "      <td>1958</td>\n",
       "      <td>Downtown</td>\n",
       "      <td>3</td>\n",
       "      <td>No</td>\n",
       "      <td>424998</td>\n",
       "      <td>0.0</td>\n",
       "      <td>0.0</td>\n",
       "      <td>0.0</td>\n",
       "    </tr>\n",
       "    <tr>\n",
       "      <th>2</th>\n",
       "      <td>3592</td>\n",
       "      <td>2</td>\n",
       "      <td>2</td>\n",
       "      <td>3</td>\n",
       "      <td>1938</td>\n",
       "      <td>Downtown</td>\n",
       "      <td>2</td>\n",
       "      <td>No</td>\n",
       "      <td>266746</td>\n",
       "      <td>0.0</td>\n",
       "      <td>0.0</td>\n",
       "      <td>0.0</td>\n",
       "    </tr>\n",
       "    <tr>\n",
       "      <th>3</th>\n",
       "      <td>966</td>\n",
       "      <td>4</td>\n",
       "      <td>2</td>\n",
       "      <td>2</td>\n",
       "      <td>1902</td>\n",
       "      <td>Suburban</td>\n",
       "      <td>1</td>\n",
       "      <td>Yes</td>\n",
       "      <td>244020</td>\n",
       "      <td>0.0</td>\n",
       "      <td>1.0</td>\n",
       "      <td>0.0</td>\n",
       "    </tr>\n",
       "    <tr>\n",
       "      <th>4</th>\n",
       "      <td>4926</td>\n",
       "      <td>1</td>\n",
       "      <td>4</td>\n",
       "      <td>2</td>\n",
       "      <td>1975</td>\n",
       "      <td>Downtown</td>\n",
       "      <td>1</td>\n",
       "      <td>Yes</td>\n",
       "      <td>636056</td>\n",
       "      <td>0.0</td>\n",
       "      <td>0.0</td>\n",
       "      <td>0.0</td>\n",
       "    </tr>\n",
       "    <tr>\n",
       "      <th>...</th>\n",
       "      <td>...</td>\n",
       "      <td>...</td>\n",
       "      <td>...</td>\n",
       "      <td>...</td>\n",
       "      <td>...</td>\n",
       "      <td>...</td>\n",
       "      <td>...</td>\n",
       "      <td>...</td>\n",
       "      <td>...</td>\n",
       "      <td>...</td>\n",
       "      <td>...</td>\n",
       "      <td>...</td>\n",
       "    </tr>\n",
       "    <tr>\n",
       "      <th>1995</th>\n",
       "      <td>4994</td>\n",
       "      <td>5</td>\n",
       "      <td>4</td>\n",
       "      <td>3</td>\n",
       "      <td>1923</td>\n",
       "      <td>Suburban</td>\n",
       "      <td>0</td>\n",
       "      <td>No</td>\n",
       "      <td>295620</td>\n",
       "      <td>0.0</td>\n",
       "      <td>1.0</td>\n",
       "      <td>0.0</td>\n",
       "    </tr>\n",
       "    <tr>\n",
       "      <th>1996</th>\n",
       "      <td>3046</td>\n",
       "      <td>5</td>\n",
       "      <td>2</td>\n",
       "      <td>1</td>\n",
       "      <td>2019</td>\n",
       "      <td>Suburban</td>\n",
       "      <td>0</td>\n",
       "      <td>Yes</td>\n",
       "      <td>580929</td>\n",
       "      <td>0.0</td>\n",
       "      <td>1.0</td>\n",
       "      <td>0.0</td>\n",
       "    </tr>\n",
       "    <tr>\n",
       "      <th>1997</th>\n",
       "      <td>1062</td>\n",
       "      <td>5</td>\n",
       "      <td>1</td>\n",
       "      <td>2</td>\n",
       "      <td>1903</td>\n",
       "      <td>Rural</td>\n",
       "      <td>0</td>\n",
       "      <td>No</td>\n",
       "      <td>476925</td>\n",
       "      <td>1.0</td>\n",
       "      <td>0.0</td>\n",
       "      <td>0.0</td>\n",
       "    </tr>\n",
       "    <tr>\n",
       "      <th>1998</th>\n",
       "      <td>4062</td>\n",
       "      <td>3</td>\n",
       "      <td>1</td>\n",
       "      <td>2</td>\n",
       "      <td>1936</td>\n",
       "      <td>Urban</td>\n",
       "      <td>3</td>\n",
       "      <td>Yes</td>\n",
       "      <td>161119</td>\n",
       "      <td>0.0</td>\n",
       "      <td>0.0</td>\n",
       "      <td>1.0</td>\n",
       "    </tr>\n",
       "    <tr>\n",
       "      <th>1999</th>\n",
       "      <td>2989</td>\n",
       "      <td>5</td>\n",
       "      <td>1</td>\n",
       "      <td>3</td>\n",
       "      <td>1903</td>\n",
       "      <td>Suburban</td>\n",
       "      <td>1</td>\n",
       "      <td>No</td>\n",
       "      <td>482525</td>\n",
       "      <td>0.0</td>\n",
       "      <td>1.0</td>\n",
       "      <td>0.0</td>\n",
       "    </tr>\n",
       "  </tbody>\n",
       "</table>\n",
       "<p>2000 rows × 12 columns</p>\n",
       "</div>"
      ],
      "text/plain": [
       "      Area  Bedrooms  Bathrooms  Floors  YearBuilt  Location  Condition  \\\n",
       "0     1360         5          4       3       1970  Downtown          3   \n",
       "1     4272         5          4       3       1958  Downtown          3   \n",
       "2     3592         2          2       3       1938  Downtown          2   \n",
       "3      966         4          2       2       1902  Suburban          1   \n",
       "4     4926         1          4       2       1975  Downtown          1   \n",
       "...    ...       ...        ...     ...        ...       ...        ...   \n",
       "1995  4994         5          4       3       1923  Suburban          0   \n",
       "1996  3046         5          2       1       2019  Suburban          0   \n",
       "1997  1062         5          1       2       1903     Rural          0   \n",
       "1998  4062         3          1       2       1936     Urban          3   \n",
       "1999  2989         5          1       3       1903  Suburban          1   \n",
       "\n",
       "     Garage   Price  (Rural,)  (Suburban,)  (Urban,)  \n",
       "0        No  149919       0.0          0.0       0.0  \n",
       "1        No  424998       0.0          0.0       0.0  \n",
       "2        No  266746       0.0          0.0       0.0  \n",
       "3       Yes  244020       0.0          1.0       0.0  \n",
       "4       Yes  636056       0.0          0.0       0.0  \n",
       "...     ...     ...       ...          ...       ...  \n",
       "1995     No  295620       0.0          1.0       0.0  \n",
       "1996    Yes  580929       0.0          1.0       0.0  \n",
       "1997     No  476925       1.0          0.0       0.0  \n",
       "1998    Yes  161119       0.0          0.0       1.0  \n",
       "1999     No  482525       0.0          1.0       0.0  \n",
       "\n",
       "[2000 rows x 12 columns]"
      ]
     },
     "execution_count": 22,
     "metadata": {},
     "output_type": "execute_result"
    }
   ],
   "source": [
    "data"
   ]
  },
  {
   "cell_type": "code",
   "execution_count": 23,
   "id": "171176ea-8ee9-4d45-989c-be1fed93aee3",
   "metadata": {},
   "outputs": [
    {
     "data": {
      "text/plain": [
       "2"
      ]
     },
     "execution_count": 23,
     "metadata": {},
     "output_type": "execute_result"
    }
   ],
   "source": [
    "data['Garage'].nunique()"
   ]
  },
  {
   "cell_type": "code",
   "execution_count": 24,
   "id": "c7315fa5-b630-4917-86e1-adee98047da8",
   "metadata": {},
   "outputs": [
    {
     "data": {
      "text/plain": [
       "array(['No', 'Yes'], dtype=object)"
      ]
     },
     "execution_count": 24,
     "metadata": {},
     "output_type": "execute_result"
    }
   ],
   "source": [
    "data['Garage'].unique()"
   ]
  },
  {
   "cell_type": "code",
   "execution_count": 25,
   "id": "d7008fe2-20e4-434a-b999-ccc04c55c31d",
   "metadata": {},
   "outputs": [],
   "source": [
    "data['Garage'] = data[['Garage']].replace(to_replace = ['Yes','No'], value = [1,0])"
   ]
  },
  {
   "cell_type": "code",
   "execution_count": 26,
   "id": "75e350bb-ad89-4781-905b-491400e44ab2",
   "metadata": {},
   "outputs": [
    {
     "data": {
      "text/html": [
       "<div>\n",
       "<style scoped>\n",
       "    .dataframe tbody tr th:only-of-type {\n",
       "        vertical-align: middle;\n",
       "    }\n",
       "\n",
       "    .dataframe tbody tr th {\n",
       "        vertical-align: top;\n",
       "    }\n",
       "\n",
       "    .dataframe thead th {\n",
       "        text-align: right;\n",
       "    }\n",
       "</style>\n",
       "<table border=\"1\" class=\"dataframe\">\n",
       "  <thead>\n",
       "    <tr style=\"text-align: right;\">\n",
       "      <th></th>\n",
       "      <th>Area</th>\n",
       "      <th>Bedrooms</th>\n",
       "      <th>Bathrooms</th>\n",
       "      <th>Floors</th>\n",
       "      <th>YearBuilt</th>\n",
       "      <th>Location</th>\n",
       "      <th>Condition</th>\n",
       "      <th>Garage</th>\n",
       "      <th>Price</th>\n",
       "      <th>(Rural,)</th>\n",
       "      <th>(Suburban,)</th>\n",
       "      <th>(Urban,)</th>\n",
       "    </tr>\n",
       "  </thead>\n",
       "  <tbody>\n",
       "    <tr>\n",
       "      <th>0</th>\n",
       "      <td>1360</td>\n",
       "      <td>5</td>\n",
       "      <td>4</td>\n",
       "      <td>3</td>\n",
       "      <td>1970</td>\n",
       "      <td>Downtown</td>\n",
       "      <td>3</td>\n",
       "      <td>0</td>\n",
       "      <td>149919</td>\n",
       "      <td>0.0</td>\n",
       "      <td>0.0</td>\n",
       "      <td>0.0</td>\n",
       "    </tr>\n",
       "    <tr>\n",
       "      <th>1</th>\n",
       "      <td>4272</td>\n",
       "      <td>5</td>\n",
       "      <td>4</td>\n",
       "      <td>3</td>\n",
       "      <td>1958</td>\n",
       "      <td>Downtown</td>\n",
       "      <td>3</td>\n",
       "      <td>0</td>\n",
       "      <td>424998</td>\n",
       "      <td>0.0</td>\n",
       "      <td>0.0</td>\n",
       "      <td>0.0</td>\n",
       "    </tr>\n",
       "    <tr>\n",
       "      <th>2</th>\n",
       "      <td>3592</td>\n",
       "      <td>2</td>\n",
       "      <td>2</td>\n",
       "      <td>3</td>\n",
       "      <td>1938</td>\n",
       "      <td>Downtown</td>\n",
       "      <td>2</td>\n",
       "      <td>0</td>\n",
       "      <td>266746</td>\n",
       "      <td>0.0</td>\n",
       "      <td>0.0</td>\n",
       "      <td>0.0</td>\n",
       "    </tr>\n",
       "    <tr>\n",
       "      <th>3</th>\n",
       "      <td>966</td>\n",
       "      <td>4</td>\n",
       "      <td>2</td>\n",
       "      <td>2</td>\n",
       "      <td>1902</td>\n",
       "      <td>Suburban</td>\n",
       "      <td>1</td>\n",
       "      <td>1</td>\n",
       "      <td>244020</td>\n",
       "      <td>0.0</td>\n",
       "      <td>1.0</td>\n",
       "      <td>0.0</td>\n",
       "    </tr>\n",
       "    <tr>\n",
       "      <th>4</th>\n",
       "      <td>4926</td>\n",
       "      <td>1</td>\n",
       "      <td>4</td>\n",
       "      <td>2</td>\n",
       "      <td>1975</td>\n",
       "      <td>Downtown</td>\n",
       "      <td>1</td>\n",
       "      <td>1</td>\n",
       "      <td>636056</td>\n",
       "      <td>0.0</td>\n",
       "      <td>0.0</td>\n",
       "      <td>0.0</td>\n",
       "    </tr>\n",
       "    <tr>\n",
       "      <th>...</th>\n",
       "      <td>...</td>\n",
       "      <td>...</td>\n",
       "      <td>...</td>\n",
       "      <td>...</td>\n",
       "      <td>...</td>\n",
       "      <td>...</td>\n",
       "      <td>...</td>\n",
       "      <td>...</td>\n",
       "      <td>...</td>\n",
       "      <td>...</td>\n",
       "      <td>...</td>\n",
       "      <td>...</td>\n",
       "    </tr>\n",
       "    <tr>\n",
       "      <th>1995</th>\n",
       "      <td>4994</td>\n",
       "      <td>5</td>\n",
       "      <td>4</td>\n",
       "      <td>3</td>\n",
       "      <td>1923</td>\n",
       "      <td>Suburban</td>\n",
       "      <td>0</td>\n",
       "      <td>0</td>\n",
       "      <td>295620</td>\n",
       "      <td>0.0</td>\n",
       "      <td>1.0</td>\n",
       "      <td>0.0</td>\n",
       "    </tr>\n",
       "    <tr>\n",
       "      <th>1996</th>\n",
       "      <td>3046</td>\n",
       "      <td>5</td>\n",
       "      <td>2</td>\n",
       "      <td>1</td>\n",
       "      <td>2019</td>\n",
       "      <td>Suburban</td>\n",
       "      <td>0</td>\n",
       "      <td>1</td>\n",
       "      <td>580929</td>\n",
       "      <td>0.0</td>\n",
       "      <td>1.0</td>\n",
       "      <td>0.0</td>\n",
       "    </tr>\n",
       "    <tr>\n",
       "      <th>1997</th>\n",
       "      <td>1062</td>\n",
       "      <td>5</td>\n",
       "      <td>1</td>\n",
       "      <td>2</td>\n",
       "      <td>1903</td>\n",
       "      <td>Rural</td>\n",
       "      <td>0</td>\n",
       "      <td>0</td>\n",
       "      <td>476925</td>\n",
       "      <td>1.0</td>\n",
       "      <td>0.0</td>\n",
       "      <td>0.0</td>\n",
       "    </tr>\n",
       "    <tr>\n",
       "      <th>1998</th>\n",
       "      <td>4062</td>\n",
       "      <td>3</td>\n",
       "      <td>1</td>\n",
       "      <td>2</td>\n",
       "      <td>1936</td>\n",
       "      <td>Urban</td>\n",
       "      <td>3</td>\n",
       "      <td>1</td>\n",
       "      <td>161119</td>\n",
       "      <td>0.0</td>\n",
       "      <td>0.0</td>\n",
       "      <td>1.0</td>\n",
       "    </tr>\n",
       "    <tr>\n",
       "      <th>1999</th>\n",
       "      <td>2989</td>\n",
       "      <td>5</td>\n",
       "      <td>1</td>\n",
       "      <td>3</td>\n",
       "      <td>1903</td>\n",
       "      <td>Suburban</td>\n",
       "      <td>1</td>\n",
       "      <td>0</td>\n",
       "      <td>482525</td>\n",
       "      <td>0.0</td>\n",
       "      <td>1.0</td>\n",
       "      <td>0.0</td>\n",
       "    </tr>\n",
       "  </tbody>\n",
       "</table>\n",
       "<p>2000 rows × 12 columns</p>\n",
       "</div>"
      ],
      "text/plain": [
       "      Area  Bedrooms  Bathrooms  Floors  YearBuilt  Location  Condition  \\\n",
       "0     1360         5          4       3       1970  Downtown          3   \n",
       "1     4272         5          4       3       1958  Downtown          3   \n",
       "2     3592         2          2       3       1938  Downtown          2   \n",
       "3      966         4          2       2       1902  Suburban          1   \n",
       "4     4926         1          4       2       1975  Downtown          1   \n",
       "...    ...       ...        ...     ...        ...       ...        ...   \n",
       "1995  4994         5          4       3       1923  Suburban          0   \n",
       "1996  3046         5          2       1       2019  Suburban          0   \n",
       "1997  1062         5          1       2       1903     Rural          0   \n",
       "1998  4062         3          1       2       1936     Urban          3   \n",
       "1999  2989         5          1       3       1903  Suburban          1   \n",
       "\n",
       "      Garage   Price  (Rural,)  (Suburban,)  (Urban,)  \n",
       "0          0  149919       0.0          0.0       0.0  \n",
       "1          0  424998       0.0          0.0       0.0  \n",
       "2          0  266746       0.0          0.0       0.0  \n",
       "3          1  244020       0.0          1.0       0.0  \n",
       "4          1  636056       0.0          0.0       0.0  \n",
       "...      ...     ...       ...          ...       ...  \n",
       "1995       0  295620       0.0          1.0       0.0  \n",
       "1996       1  580929       0.0          1.0       0.0  \n",
       "1997       0  476925       1.0          0.0       0.0  \n",
       "1998       1  161119       0.0          0.0       1.0  \n",
       "1999       0  482525       0.0          1.0       0.0  \n",
       "\n",
       "[2000 rows x 12 columns]"
      ]
     },
     "execution_count": 26,
     "metadata": {},
     "output_type": "execute_result"
    }
   ],
   "source": [
    "data"
   ]
  },
  {
   "cell_type": "code",
   "execution_count": 27,
   "id": "14ee5cbb-49ad-4830-b895-763e589f88e8",
   "metadata": {},
   "outputs": [
    {
     "data": {
      "text/html": [
       "<div>\n",
       "<style scoped>\n",
       "    .dataframe tbody tr th:only-of-type {\n",
       "        vertical-align: middle;\n",
       "    }\n",
       "\n",
       "    .dataframe tbody tr th {\n",
       "        vertical-align: top;\n",
       "    }\n",
       "\n",
       "    .dataframe thead th {\n",
       "        text-align: right;\n",
       "    }\n",
       "</style>\n",
       "<table border=\"1\" class=\"dataframe\">\n",
       "  <thead>\n",
       "    <tr style=\"text-align: right;\">\n",
       "      <th></th>\n",
       "      <th>Area</th>\n",
       "      <th>Bedrooms</th>\n",
       "      <th>Bathrooms</th>\n",
       "      <th>Floors</th>\n",
       "      <th>YearBuilt</th>\n",
       "      <th>Condition</th>\n",
       "      <th>Garage</th>\n",
       "      <th>(Rural,)</th>\n",
       "      <th>(Suburban,)</th>\n",
       "      <th>(Urban,)</th>\n",
       "    </tr>\n",
       "  </thead>\n",
       "  <tbody>\n",
       "    <tr>\n",
       "      <th>0</th>\n",
       "      <td>1360</td>\n",
       "      <td>5</td>\n",
       "      <td>4</td>\n",
       "      <td>3</td>\n",
       "      <td>1970</td>\n",
       "      <td>3</td>\n",
       "      <td>0</td>\n",
       "      <td>0.0</td>\n",
       "      <td>0.0</td>\n",
       "      <td>0.0</td>\n",
       "    </tr>\n",
       "    <tr>\n",
       "      <th>1</th>\n",
       "      <td>4272</td>\n",
       "      <td>5</td>\n",
       "      <td>4</td>\n",
       "      <td>3</td>\n",
       "      <td>1958</td>\n",
       "      <td>3</td>\n",
       "      <td>0</td>\n",
       "      <td>0.0</td>\n",
       "      <td>0.0</td>\n",
       "      <td>0.0</td>\n",
       "    </tr>\n",
       "    <tr>\n",
       "      <th>2</th>\n",
       "      <td>3592</td>\n",
       "      <td>2</td>\n",
       "      <td>2</td>\n",
       "      <td>3</td>\n",
       "      <td>1938</td>\n",
       "      <td>2</td>\n",
       "      <td>0</td>\n",
       "      <td>0.0</td>\n",
       "      <td>0.0</td>\n",
       "      <td>0.0</td>\n",
       "    </tr>\n",
       "    <tr>\n",
       "      <th>3</th>\n",
       "      <td>966</td>\n",
       "      <td>4</td>\n",
       "      <td>2</td>\n",
       "      <td>2</td>\n",
       "      <td>1902</td>\n",
       "      <td>1</td>\n",
       "      <td>1</td>\n",
       "      <td>0.0</td>\n",
       "      <td>1.0</td>\n",
       "      <td>0.0</td>\n",
       "    </tr>\n",
       "    <tr>\n",
       "      <th>4</th>\n",
       "      <td>4926</td>\n",
       "      <td>1</td>\n",
       "      <td>4</td>\n",
       "      <td>2</td>\n",
       "      <td>1975</td>\n",
       "      <td>1</td>\n",
       "      <td>1</td>\n",
       "      <td>0.0</td>\n",
       "      <td>0.0</td>\n",
       "      <td>0.0</td>\n",
       "    </tr>\n",
       "    <tr>\n",
       "      <th>...</th>\n",
       "      <td>...</td>\n",
       "      <td>...</td>\n",
       "      <td>...</td>\n",
       "      <td>...</td>\n",
       "      <td>...</td>\n",
       "      <td>...</td>\n",
       "      <td>...</td>\n",
       "      <td>...</td>\n",
       "      <td>...</td>\n",
       "      <td>...</td>\n",
       "    </tr>\n",
       "    <tr>\n",
       "      <th>1995</th>\n",
       "      <td>4994</td>\n",
       "      <td>5</td>\n",
       "      <td>4</td>\n",
       "      <td>3</td>\n",
       "      <td>1923</td>\n",
       "      <td>0</td>\n",
       "      <td>0</td>\n",
       "      <td>0.0</td>\n",
       "      <td>1.0</td>\n",
       "      <td>0.0</td>\n",
       "    </tr>\n",
       "    <tr>\n",
       "      <th>1996</th>\n",
       "      <td>3046</td>\n",
       "      <td>5</td>\n",
       "      <td>2</td>\n",
       "      <td>1</td>\n",
       "      <td>2019</td>\n",
       "      <td>0</td>\n",
       "      <td>1</td>\n",
       "      <td>0.0</td>\n",
       "      <td>1.0</td>\n",
       "      <td>0.0</td>\n",
       "    </tr>\n",
       "    <tr>\n",
       "      <th>1997</th>\n",
       "      <td>1062</td>\n",
       "      <td>5</td>\n",
       "      <td>1</td>\n",
       "      <td>2</td>\n",
       "      <td>1903</td>\n",
       "      <td>0</td>\n",
       "      <td>0</td>\n",
       "      <td>1.0</td>\n",
       "      <td>0.0</td>\n",
       "      <td>0.0</td>\n",
       "    </tr>\n",
       "    <tr>\n",
       "      <th>1998</th>\n",
       "      <td>4062</td>\n",
       "      <td>3</td>\n",
       "      <td>1</td>\n",
       "      <td>2</td>\n",
       "      <td>1936</td>\n",
       "      <td>3</td>\n",
       "      <td>1</td>\n",
       "      <td>0.0</td>\n",
       "      <td>0.0</td>\n",
       "      <td>1.0</td>\n",
       "    </tr>\n",
       "    <tr>\n",
       "      <th>1999</th>\n",
       "      <td>2989</td>\n",
       "      <td>5</td>\n",
       "      <td>1</td>\n",
       "      <td>3</td>\n",
       "      <td>1903</td>\n",
       "      <td>1</td>\n",
       "      <td>0</td>\n",
       "      <td>0.0</td>\n",
       "      <td>1.0</td>\n",
       "      <td>0.0</td>\n",
       "    </tr>\n",
       "  </tbody>\n",
       "</table>\n",
       "<p>2000 rows × 10 columns</p>\n",
       "</div>"
      ],
      "text/plain": [
       "      Area  Bedrooms  Bathrooms  Floors  YearBuilt  Condition  Garage  \\\n",
       "0     1360         5          4       3       1970          3       0   \n",
       "1     4272         5          4       3       1958          3       0   \n",
       "2     3592         2          2       3       1938          2       0   \n",
       "3      966         4          2       2       1902          1       1   \n",
       "4     4926         1          4       2       1975          1       1   \n",
       "...    ...       ...        ...     ...        ...        ...     ...   \n",
       "1995  4994         5          4       3       1923          0       0   \n",
       "1996  3046         5          2       1       2019          0       1   \n",
       "1997  1062         5          1       2       1903          0       0   \n",
       "1998  4062         3          1       2       1936          3       1   \n",
       "1999  2989         5          1       3       1903          1       0   \n",
       "\n",
       "      (Rural,)  (Suburban,)  (Urban,)  \n",
       "0          0.0          0.0       0.0  \n",
       "1          0.0          0.0       0.0  \n",
       "2          0.0          0.0       0.0  \n",
       "3          0.0          1.0       0.0  \n",
       "4          0.0          0.0       0.0  \n",
       "...        ...          ...       ...  \n",
       "1995       0.0          1.0       0.0  \n",
       "1996       0.0          1.0       0.0  \n",
       "1997       1.0          0.0       0.0  \n",
       "1998       0.0          0.0       1.0  \n",
       "1999       0.0          1.0       0.0  \n",
       "\n",
       "[2000 rows x 10 columns]"
      ]
     },
     "execution_count": 27,
     "metadata": {},
     "output_type": "execute_result"
    }
   ],
   "source": [
    "X_df = data.drop(['Location','Price'], axis = 1)\n",
    "y = data['Price']\n",
    "X_df"
   ]
  },
  {
   "cell_type": "code",
   "execution_count": 28,
   "id": "3b2246a6-5f17-4524-91b7-d0f07eeb1ca1",
   "metadata": {},
   "outputs": [
    {
     "data": {
      "text/plain": [
       "0       149919\n",
       "1       424998\n",
       "2       266746\n",
       "3       244020\n",
       "4       636056\n",
       "         ...  \n",
       "1995    295620\n",
       "1996    580929\n",
       "1997    476925\n",
       "1998    161119\n",
       "1999    482525\n",
       "Name: Price, Length: 2000, dtype: int64"
      ]
     },
     "execution_count": 28,
     "metadata": {},
     "output_type": "execute_result"
    }
   ],
   "source": [
    "y"
   ]
  },
  {
   "cell_type": "code",
   "execution_count": 29,
   "id": "71db33d5-a375-4fcb-8569-525029d9bafa",
   "metadata": {},
   "outputs": [],
   "source": [
    "X = X_df.values"
   ]
  },
  {
   "cell_type": "code",
   "execution_count": 30,
   "id": "9f5c3e86-44d2-4ceb-90b7-b95851606981",
   "metadata": {},
   "outputs": [],
   "source": [
    "Y = y.values"
   ]
  },
  {
   "cell_type": "code",
   "execution_count": 31,
   "id": "fed33e8e-f239-4c2d-8f89-d880a55fca3a",
   "metadata": {},
   "outputs": [
    {
     "data": {
      "text/plain": [
       "array([[1.360e+03, 5.000e+00, 4.000e+00, ..., 0.000e+00, 0.000e+00,\n",
       "        0.000e+00],\n",
       "       [4.272e+03, 5.000e+00, 4.000e+00, ..., 0.000e+00, 0.000e+00,\n",
       "        0.000e+00],\n",
       "       [3.592e+03, 2.000e+00, 2.000e+00, ..., 0.000e+00, 0.000e+00,\n",
       "        0.000e+00],\n",
       "       ...,\n",
       "       [1.062e+03, 5.000e+00, 1.000e+00, ..., 1.000e+00, 0.000e+00,\n",
       "        0.000e+00],\n",
       "       [4.062e+03, 3.000e+00, 1.000e+00, ..., 0.000e+00, 0.000e+00,\n",
       "        1.000e+00],\n",
       "       [2.989e+03, 5.000e+00, 1.000e+00, ..., 0.000e+00, 1.000e+00,\n",
       "        0.000e+00]])"
      ]
     },
     "execution_count": 31,
     "metadata": {},
     "output_type": "execute_result"
    }
   ],
   "source": [
    "X"
   ]
  },
  {
   "cell_type": "code",
   "execution_count": 32,
   "id": "e9eba1af-e800-4f85-b990-53acc66ad484",
   "metadata": {},
   "outputs": [
    {
     "data": {
      "text/plain": [
       "array([149919, 424998, 266746, ..., 476925, 161119, 482525], dtype=int64)"
      ]
     },
     "execution_count": 32,
     "metadata": {},
     "output_type": "execute_result"
    }
   ],
   "source": [
    "Y"
   ]
  },
  {
   "cell_type": "code",
   "execution_count": 33,
   "id": "de831695-efa6-4620-9a99-a564c36bdd7d",
   "metadata": {},
   "outputs": [],
   "source": [
    "from sklearn.model_selection import train_test_split\n",
    "x_train , x_test , y_train , y_test = train_test_split(X,Y, test_size = 0.2, random_state = 0)"
   ]
  },
  {
   "cell_type": "code",
   "execution_count": 34,
   "id": "4946422e-dfb3-484f-8283-dfbe34294703",
   "metadata": {},
   "outputs": [
    {
     "name": "stdout",
     "output_type": "stream",
     "text": [
      "(1600, 10)\n",
      "(400, 10)\n",
      "(1600,)\n",
      "(400,)\n"
     ]
    }
   ],
   "source": [
    "print(x_train.shape)\n",
    "print(x_test.shape)\n",
    "print(y_train.shape)\n",
    "print(y_test.shape)"
   ]
  },
  {
   "cell_type": "code",
   "execution_count": null,
   "id": "c2a823b8-4e45-4581-a596-9322d5fab6e1",
   "metadata": {},
   "outputs": [],
   "source": []
  },
  {
   "cell_type": "markdown",
   "id": "810b00a0-e17e-443b-b88a-03d768f02b3b",
   "metadata": {},
   "source": [
    "# Linear Regression"
   ]
  },
  {
   "cell_type": "code",
   "execution_count": 36,
   "id": "eeb066c1-9cd7-46f2-98c9-e2c3fa84ff86",
   "metadata": {},
   "outputs": [
    {
     "data": {
      "text/html": [
       "<style>#sk-container-id-1 {color: black;background-color: white;}#sk-container-id-1 pre{padding: 0;}#sk-container-id-1 div.sk-toggleable {background-color: white;}#sk-container-id-1 label.sk-toggleable__label {cursor: pointer;display: block;width: 100%;margin-bottom: 0;padding: 0.3em;box-sizing: border-box;text-align: center;}#sk-container-id-1 label.sk-toggleable__label-arrow:before {content: \"▸\";float: left;margin-right: 0.25em;color: #696969;}#sk-container-id-1 label.sk-toggleable__label-arrow:hover:before {color: black;}#sk-container-id-1 div.sk-estimator:hover label.sk-toggleable__label-arrow:before {color: black;}#sk-container-id-1 div.sk-toggleable__content {max-height: 0;max-width: 0;overflow: hidden;text-align: left;background-color: #f0f8ff;}#sk-container-id-1 div.sk-toggleable__content pre {margin: 0.2em;color: black;border-radius: 0.25em;background-color: #f0f8ff;}#sk-container-id-1 input.sk-toggleable__control:checked~div.sk-toggleable__content {max-height: 200px;max-width: 100%;overflow: auto;}#sk-container-id-1 input.sk-toggleable__control:checked~label.sk-toggleable__label-arrow:before {content: \"▾\";}#sk-container-id-1 div.sk-estimator input.sk-toggleable__control:checked~label.sk-toggleable__label {background-color: #d4ebff;}#sk-container-id-1 div.sk-label input.sk-toggleable__control:checked~label.sk-toggleable__label {background-color: #d4ebff;}#sk-container-id-1 input.sk-hidden--visually {border: 0;clip: rect(1px 1px 1px 1px);clip: rect(1px, 1px, 1px, 1px);height: 1px;margin: -1px;overflow: hidden;padding: 0;position: absolute;width: 1px;}#sk-container-id-1 div.sk-estimator {font-family: monospace;background-color: #f0f8ff;border: 1px dotted black;border-radius: 0.25em;box-sizing: border-box;margin-bottom: 0.5em;}#sk-container-id-1 div.sk-estimator:hover {background-color: #d4ebff;}#sk-container-id-1 div.sk-parallel-item::after {content: \"\";width: 100%;border-bottom: 1px solid gray;flex-grow: 1;}#sk-container-id-1 div.sk-label:hover label.sk-toggleable__label {background-color: #d4ebff;}#sk-container-id-1 div.sk-serial::before {content: \"\";position: absolute;border-left: 1px solid gray;box-sizing: border-box;top: 0;bottom: 0;left: 50%;z-index: 0;}#sk-container-id-1 div.sk-serial {display: flex;flex-direction: column;align-items: center;background-color: white;padding-right: 0.2em;padding-left: 0.2em;position: relative;}#sk-container-id-1 div.sk-item {position: relative;z-index: 1;}#sk-container-id-1 div.sk-parallel {display: flex;align-items: stretch;justify-content: center;background-color: white;position: relative;}#sk-container-id-1 div.sk-item::before, #sk-container-id-1 div.sk-parallel-item::before {content: \"\";position: absolute;border-left: 1px solid gray;box-sizing: border-box;top: 0;bottom: 0;left: 50%;z-index: -1;}#sk-container-id-1 div.sk-parallel-item {display: flex;flex-direction: column;z-index: 1;position: relative;background-color: white;}#sk-container-id-1 div.sk-parallel-item:first-child::after {align-self: flex-end;width: 50%;}#sk-container-id-1 div.sk-parallel-item:last-child::after {align-self: flex-start;width: 50%;}#sk-container-id-1 div.sk-parallel-item:only-child::after {width: 0;}#sk-container-id-1 div.sk-dashed-wrapped {border: 1px dashed gray;margin: 0 0.4em 0.5em 0.4em;box-sizing: border-box;padding-bottom: 0.4em;background-color: white;}#sk-container-id-1 div.sk-label label {font-family: monospace;font-weight: bold;display: inline-block;line-height: 1.2em;}#sk-container-id-1 div.sk-label-container {text-align: center;}#sk-container-id-1 div.sk-container {/* jupyter's `normalize.less` sets `[hidden] { display: none; }` but bootstrap.min.css set `[hidden] { display: none !important; }` so we also need the `!important` here to be able to override the default hidden behavior on the sphinx rendered scikit-learn.org. See: https://github.com/scikit-learn/scikit-learn/issues/21755 */display: inline-block !important;position: relative;}#sk-container-id-1 div.sk-text-repr-fallback {display: none;}</style><div id=\"sk-container-id-1\" class=\"sk-top-container\"><div class=\"sk-text-repr-fallback\"><pre>LinearRegression()</pre><b>In a Jupyter environment, please rerun this cell to show the HTML representation or trust the notebook. <br />On GitHub, the HTML representation is unable to render, please try loading this page with nbviewer.org.</b></div><div class=\"sk-container\" hidden><div class=\"sk-item\"><div class=\"sk-estimator sk-toggleable\"><input class=\"sk-toggleable__control sk-hidden--visually\" id=\"sk-estimator-id-1\" type=\"checkbox\" checked><label for=\"sk-estimator-id-1\" class=\"sk-toggleable__label sk-toggleable__label-arrow\">LinearRegression</label><div class=\"sk-toggleable__content\"><pre>LinearRegression()</pre></div></div></div></div></div>"
      ],
      "text/plain": [
       "LinearRegression()"
      ]
     },
     "execution_count": 36,
     "metadata": {},
     "output_type": "execute_result"
    }
   ],
   "source": [
    "from sklearn.linear_model import LinearRegression\n",
    "lr_model = LinearRegression()\n",
    "lr_model.fit(x_train,y_train)"
   ]
  },
  {
   "cell_type": "code",
   "execution_count": 37,
   "id": "a6061791-a511-4e4f-85b7-8b7021e4e0c9",
   "metadata": {},
   "outputs": [],
   "source": [
    "y_train_pred = lr_model.predict(x_train)"
   ]
  },
  {
   "cell_type": "code",
   "execution_count": 38,
   "id": "e863c63e-2272-412c-ad1a-c5eaef8e7622",
   "metadata": {},
   "outputs": [],
   "source": [
    "from sklearn.metrics import mean_squared_error, mean_absolute_error , r2_score"
   ]
  },
  {
   "cell_type": "code",
   "execution_count": 39,
   "id": "8db64eaa-81b5-4d6a-a540-c4faf04d0b08",
   "metadata": {},
   "outputs": [
    {
     "name": "stdout",
     "output_type": "stream",
     "text": [
      "MSE (Train): 77493835068.88966\n",
      "RMSE (Train): 278377.1453781536\n",
      "MAE (Train): 241404.41501856488\n",
      "R² Score (Train): 0.005990048684153981\n"
     ]
    }
   ],
   "source": [
    "mse_t = mean_squared_error(y_train, y_train_pred)  # Correct order\n",
    "rmse_t = np.sqrt(mse_t)  # RMSE = sqrt of MSE\n",
    "mae_t = mean_absolute_error(y_train, y_train_pred)\n",
    "r2_train = r2_score(y_train, y_train_pred)  # Correct order\n",
    "\n",
    "# Print results\n",
    "print(\"MSE (Train):\", mse_t)\n",
    "print(\"RMSE (Train):\", rmse_t)\n",
    "print(\"MAE (Train):\", mae_t)\n",
    "print(\"R² Score (Train):\", r2_train)\n"
   ]
  },
  {
   "cell_type": "code",
   "execution_count": 40,
   "id": "6253d547-afd1-4a29-a99e-817930a798da",
   "metadata": {},
   "outputs": [],
   "source": [
    "y_test_pred = lr_model.predict(x_test)\n"
   ]
  },
  {
   "cell_type": "code",
   "execution_count": 41,
   "id": "7f5bdb99-2b10-4658-bf55-fd02b29398df",
   "metadata": {},
   "outputs": [
    {
     "name": "stdout",
     "output_type": "stream",
     "text": [
      "MSE (Test): 69950148039.25958\n",
      "RMSE (Test): 264480.90297649015\n",
      "MAE (Test): 226115.13920729904\n",
      "R² Score (Test): -0.0005046830542836389\n"
     ]
    }
   ],
   "source": [
    "mse_test = mean_squared_error(y_test, y_test_pred)  # Correct order\n",
    "rmse_test = np.sqrt(mse_test)  # RMSE = sqrt of MSE\n",
    "mae_test = mean_absolute_error(y_test, y_test_pred)\n",
    "r2_test = r2_score(y_test, y_test_pred)  # Correct order\n",
    "\n",
    "# Print results\n",
    "print(\"MSE (Test):\", mse_test)\n",
    "print(\"RMSE (Test):\", rmse_test)\n",
    "print(\"MAE (Test):\", mae_test)\n",
    "print(\"R² Score (Test):\", r2_test)\n"
   ]
  },
  {
   "cell_type": "code",
   "execution_count": null,
   "id": "48d0fbf4-eae1-4490-ad66-8e9cc33bfac9",
   "metadata": {},
   "outputs": [],
   "source": []
  },
  {
   "cell_type": "code",
   "execution_count": 42,
   "id": "7c44f6f3-7ea8-434d-a9eb-3c0f54da20d0",
   "metadata": {},
   "outputs": [],
   "source": [
    "import pandas as pd\n",
    "import numpy as np\n",
    "import statsmodels.api as sm\n",
    "import seaborn as sns\n",
    "import matplotlib.pyplot as plt\n",
    "from statsmodels.stats.stattools import durbin_watson as dw\n",
    "from statsmodels.stats.diagnostic import het_breuschpagan\n",
    "from scipy.stats import probplot, shapiro\n",
    "from statsmodels.stats.outliers_influence import variance_inflation_factor\n",
    "\n",
    "def test_linear_regression_assumptions(x, y, x_df):\n",
    "    \"\"\" \n",
    "    Tests key assumptions of linear regression: Linearity, Independence, Homoscedasticity,\n",
    "    Normality, and No Multicollinearity.\n",
    "\n",
    "    Parameters:\n",
    "    x (DataFrame): Independent variables\n",
    "    y (Series): Dependent variable\n",
    "    x_df (DataFrame): Original independent variable dataframe (before adding constant)\n",
    "\n",
    "    Returns: \n",
    "    None\n",
    "    \"\"\"\n",
    "\n",
    "    # Add constant for intercept\n",
    "    x = sm.add_constant(x)\n",
    "\n",
    "    # Fit OLS model\n",
    "    ols_model = sm.OLS(y, x).fit()\n",
    "    residuals = ols_model.resid\n",
    "    predicted_values = ols_model.fittedvalues\n",
    "\n",
    "    # 1. Linearity\n",
    "    print(\"1. Linearity:\\n\")\n",
    "    plt.scatter(predicted_values, residuals, alpha=0.7, edgecolors='k')\n",
    "    plt.axhline(y=0, color='red', linestyle=\"--\")\n",
    "    plt.xlabel(\"Predicted Values\")\n",
    "    plt.ylabel(\"Residuals\")\n",
    "    plt.title(\"Residuals vs Predicted Values\")\n",
    "    plt.show()\n",
    "    print(\"Check if the residuals are randomly scattered around 0. Non-random patterns indicate non-linearity.\\n\")\n",
    "\n",
    "    # 2. No Autocorrelations: Independence of Errors (Durbin-Watson Test)\n",
    "    print(\"2. Independence of Errors (Durbin-Watson test):\\n\")\n",
    "    dw_stat = dw(residuals)\n",
    "    print(f\"Durbin-Watson statistic: {dw_stat}\")\n",
    "    if 1.5 <= dw_stat <= 2.5:\n",
    "        print(\"Residuals appear to be independent (No autocorrelation).\\n\")\n",
    "    else:\n",
    "        print(\"Residuals show autocorrelation. Consider adding lag variables or using GLS.\\n\")\n",
    "\n",
    "    # 3. Homoscedasticity (Breusch-Pagan Test)\n",
    "    print(\"3. Homoscedasticity (Breusch-Pagan Test):\\n\")\n",
    "    bp_test = het_breuschpagan(residuals, x)\n",
    "    print(f\"Lagrange Multiplier Statistic: {bp_test[0]}\")\n",
    "    print(f\"p-value: {bp_test[1]}\")\n",
    "    if bp_test[1] > 0.05:\n",
    "        print(\"Residuals have constant variance (Homoscedasticity).\\n\")\n",
    "    else:\n",
    "        print(\"Residuals do not have constant variance (Heteroscedasticity). Consider GLS or transformations.\\n\")\n",
    "\n",
    "    # 4. Normality of Errors\n",
    "    print(\"4. Normality of Errors:\\n\")\n",
    "    sns.histplot(residuals, kde=True, bins=20, color='blue')\n",
    "    plt.title(\"Histogram of Residuals\")\n",
    "    plt.xlabel(\"Residuals\")\n",
    "    plt.ylabel(\"Frequency\")\n",
    "    plt.show()\n",
    "\n",
    "    probplot(residuals, dist=\"norm\", plot=plt)\n",
    "    plt.title(\"Q-Q Plot of Residuals\")\n",
    "    plt.show()\n",
    "\n",
    "    shapiro_test = shapiro(residuals)\n",
    "    print(f\"Shapiro-Wilk Test p-value: {shapiro_test.pvalue}\")\n",
    "    if shapiro_test.pvalue > 0.05:\n",
    "        print(\"Residuals are normally distributed.\\n\")\n",
    "    else:\n",
    "        print(\"Residuals are not normally distributed. Consider transformations or robust regression.\\n\")\n",
    "\n",
    "    # 5. Multicollinearity (Variance Inflation Factor)\n",
    "    print(\"5. Multicollinearity (Variance Inflation Factor):\\n\")\n",
    "    vif_data = pd.DataFrame()\n",
    "    vif_data[\"Feature\"] = x_df.columns\n",
    "    vif_data[\"VIF\"] = [variance_inflation_factor(x_df.values, i) for i in range(x_df.shape[1])]\n",
    "    print(vif_data)\n",
    "    if vif_data[\"VIF\"].max() > 10:\n",
    "        print(\"High multicollinearity detected. Consider removing or combining highly correlated variables.\\n\")\n",
    "    else:\n",
    "        print(\"No significant multicollinearity detected.\\n\")"
   ]
  },
  {
   "cell_type": "code",
   "execution_count": 43,
   "id": "0329915f-a278-4e56-bdc9-a1b5404102d2",
   "metadata": {},
   "outputs": [
    {
     "name": "stdout",
     "output_type": "stream",
     "text": [
      "1. Linearity:\n",
      "\n"
     ]
    },
    {
     "data": {
      "image/png": "[encoded data removed]",
      "text/plain": [
       "<Figure size 640x480 with 1 Axes>"
      ]
     },
     "metadata": {},
     "output_type": "display_data"
    },
    {
     "name": "stdout",
     "output_type": "stream",
     "text": [
      "Check if the residuals are randomly scattered around 0. Non-random patterns indicate non-linearity.\n",
      "\n",
      "2. Independence of Errors (Durbin-Watson test):\n",
      "\n",
      "Durbin-Watson statistic: 2.0109193267110332\n",
      "Residuals appear to be independent (No autocorrelation).\n",
      "\n",
      "3. Homoscedasticity (Breusch-Pagan Test):\n",
      "\n",
      "Lagrange Multiplier Statistic: 10.876761574347782\n",
      "p-value: 0.367199747317463\n",
      "Residuals have constant variance (Homoscedasticity).\n",
      "\n",
      "4. Normality of Errors:\n",
      "\n"
     ]
    },
    {
     "name": "stderr",
     "output_type": "stream",
     "text": [
      "C:\\Users\\91981\\anaconda3\\Lib\\site-packages\\seaborn\\_oldcore.py:1119: FutureWarning: use_inf_as_na option is deprecated and will be removed in a future version. Convert inf values to NaN before operating instead.\n",
      "  with pd.option_context('mode.use_inf_as_na', True):\n"
     ]
    },
    {
     "data": {
      "image/png": "[encoded data removed]",
      "text/plain": [
       "<Figure size 640x480 with 1 Axes>"
      ]
     },
     "metadata": {},
     "output_type": "display_data"
    },
    {
     "data": {
      "image/png": "[encoded data removed]",
      "text/plain": [
       "<Figure size 640x480 with 1 Axes>"
      ]
     },
     "metadata": {},
     "output_type": "display_data"
    },
    {
     "name": "stdout",
     "output_type": "stream",
     "text": [
      "Shapiro-Wilk Test p-value: 8.376471937999511e-22\n",
      "Residuals are not normally distributed. Consider transformations or robust regression.\n",
      "\n",
      "5. Multicollinearity (Variance Inflation Factor):\n",
      "\n",
      "       Feature        VIF\n",
      "0         Area   5.637487\n",
      "1     Bedrooms   5.461421\n",
      "2    Bathrooms   6.303591\n",
      "3       Floors   7.068938\n",
      "4    YearBuilt  26.095359\n",
      "5    Condition   2.753059\n",
      "6       Garage   1.936333\n",
      "7     (Rural,)   1.852613\n",
      "8  (Suburban,)   1.866990\n",
      "9     (Urban,)   1.868833\n",
      "High multicollinearity detected. Consider removing or combining highly correlated variables.\n",
      "\n"
     ]
    }
   ],
   "source": [
    "test_linear_regression_assumptions(x_train,y_train,X_df)"
   ]
  },
  {
   "cell_type": "code",
   "execution_count": null,
   "id": "fd9e0453-d75c-442e-8958-12151519e25f",
   "metadata": {},
   "outputs": [],
   "source": []
  },
  {
   "cell_type": "markdown",
   "id": "4b7b2463-ebcf-462a-8e5c-4ea95fc0140f",
   "metadata": {},
   "source": [
    "# Lasso"
   ]
  },
  {
   "cell_type": "code",
   "execution_count": 167,
   "id": "84282b2e-da67-40de-a8e3-e597e5b9b574",
   "metadata": {},
   "outputs": [
    {
     "name": "stdout",
     "output_type": "stream",
     "text": [
      "Training Performance:\n",
      "MSE: 75474359160.76152\n",
      "RMSE: 274725.9710343409\n",
      "MAE: 237119.93339532704\n",
      "R²: 0.007014588958499934\n",
      "\n",
      "Test Performance:\n",
      "MSE: 78076319869.6887\n",
      "RMSE: 279421.40195355244\n",
      "MAE: 242349.9119403196\n",
      "R²: -0.0035667805681462994\n"
     ]
    }
   ],
   "source": [
    "from sklearn.linear_model import Lasso\n",
    "from sklearn.metrics import mean_squared_error, mean_absolute_error, r2_score\n",
    "\n",
    "# Train Lasso Model\n",
    "l1 = Lasso(alpha=1.0)\n",
    "l1.fit(x_train, y_train)\n",
    "\n",
    "# Predictions on Training Data\n",
    "y_pred_train_l1 = l1.predict(x_train)\n",
    "\n",
    "# Metrics Calculation on Training Data\n",
    "mse_l1_train = mean_squared_error(y_train, y_pred_train_l1)\n",
    "rmse_l1_train = mean_squared_error(y_train, y_pred_train_l1, squared=False)  # Correct RMSE calculation\n",
    "mae_l1_train = mean_absolute_error(y_train, y_pred_train_l1)\n",
    "r2_l1_train = r2_score(y_train, y_pred_train_l1)\n",
    "\n",
    "# Printing Training Results\n",
    "print(\"Training Performance:\")\n",
    "print(\"MSE:\", mse_l1_train)\n",
    "print(\"RMSE:\", rmse_l1_train)\n",
    "print(\"MAE:\", mae_l1_train)\n",
    "print(\"R²:\", r2_l1_train)\n",
    "\n",
    "# Predictions on Test Data\n",
    "y_pred_test_l1 = l1.predict(x_test)\n",
    "\n",
    "# **Corrected Order: (y_true, y_pred)**\n",
    "mse_l1_test = mean_squared_error(y_test, y_pred_test_l1)\n",
    "rmse_l1_test = mean_squared_error(y_test, y_pred_test_l1, squared=False)  # Correct RMSE calculation\n",
    "mae_l1_test = mean_absolute_error(y_test, y_pred_test_l1)\n",
    "r2_l1_test = r2_score(y_test, y_pred_test_l1)\n",
    "\n",
    "# Printing Test Results\n",
    "print(\"\\nTest Performance:\")\n",
    "print(\"MSE:\", mse_l1_test)\n",
    "print(\"RMSE:\", rmse_l1_test)\n",
    "print(\"MAE:\", mae_l1_test)\n",
    "print(\"R²:\", r2_l1_test)\n",
    "\n"
   ]
  },
  {
   "cell_type": "code",
   "execution_count": null,
   "id": "4e8056ba-1355-40d8-a991-eab1eebc2145",
   "metadata": {},
   "outputs": [],
   "source": []
  },
  {
   "cell_type": "markdown",
   "id": "3c57e9c0-2e5d-444c-965b-deb07f0feec9",
   "metadata": {},
   "source": [
    "# Ridge "
   ]
  },
  {
   "cell_type": "code",
   "execution_count": 165,
   "id": "42375362-bee7-4c73-8e60-ae3e0b6f0ba1",
   "metadata": {},
   "outputs": [
    {
     "name": "stdout",
     "output_type": "stream",
     "text": [
      "Training Performance:\n",
      "MSE: 75474377711.05524\n",
      "RMSE: 274726.00479578786\n",
      "MAE: 237122.6911759961\n",
      "R²: 0.007014344899838765\n",
      "\n",
      "Test Performance:\n",
      "MSE: 78072089255.4076\n",
      "RMSE: 279413.83153918415\n",
      "MAE: 242346.19253849014\n",
      "R²: -0.0035124016737388963\n"
     ]
    }
   ],
   "source": [
    "from sklearn.linear_model import Ridge\n",
    "from sklearn.metrics import mean_squared_error, mean_absolute_error, r2_score\n",
    "\n",
    "# Train Ridge Model\n",
    "l2 = Ridge(alpha=1.0)\n",
    "l2.fit(x_train, y_train)\n",
    "\n",
    "# Predictions on Training Data\n",
    "y_pred_train_l2 = l2.predict(x_train)\n",
    "\n",
    "# Metrics Calculation on Training Data\n",
    "mse_l2_train = mean_squared_error(y_train, y_pred_train_l2)\n",
    "rmse_l2_train = mean_squared_error(y_train, y_pred_train_l2, squared=False)  # Correct RMSE calculation\n",
    "mae_l2_train = mean_absolute_error(y_train, y_pred_train_l2)\n",
    "r2_l2_train = r2_score(y_train, y_pred_train_l2)\n",
    "\n",
    "# Printing Training Results\n",
    "print(\"Training Performance:\")\n",
    "print(\"MSE:\", mse_l2_train)\n",
    "print(\"RMSE:\", rmse_l2_train)\n",
    "print(\"MAE:\", mae_l2_train)\n",
    "print(\"R²:\", r2_l2_train)\n",
    "\n",
    "# Predictions on Test Data\n",
    "y_pred_test_l2 = l2.predict(x_test)\n",
    "\n",
    "# Metrics Calculation on Test Data\n",
    "mse_l2_test = mean_squared_error(y_test, y_pred_test_l2)\n",
    "rmse_l2_test = mean_squared_error(y_test, y_pred_test_l2, squared=False)  # Correct RMSE calculation\n",
    "mae_l2_test = mean_absolute_error(y_test, y_pred_test_l2)\n",
    "r2_l2_test = r2_score(y_test, y_pred_test_l2)\n",
    "\n",
    "# Printing Test Results\n",
    "print(\"\\nTest Performance:\")\n",
    "print(\"MSE:\", mse_l2_test)\n",
    "print(\"RMSE:\", rmse_l2_test)\n",
    "print(\"MAE:\", mae_l2_test)\n",
    "print(\"R²:\", r2_l2_test)\n",
    "\n"
   ]
  },
  {
   "cell_type": "code",
   "execution_count": null,
   "id": "67d62975-01e6-4ec2-bb93-8d3f19cccb4f",
   "metadata": {},
   "outputs": [],
   "source": []
  },
  {
   "cell_type": "markdown",
   "id": "2c7858f1-34c7-4030-9e15-0f4cc7163b33",
   "metadata": {},
   "source": [
    "# Elastic net"
   ]
  },
  {
   "cell_type": "code",
   "execution_count": 170,
   "id": "6b5dd11e-f5ce-4242-ac25-4b398fb7e969",
   "metadata": {},
   "outputs": [
    {
     "name": "stdout",
     "output_type": "stream",
     "text": [
      "Training Performance:\n",
      "MSE: 75683519371.96089\n",
      "RMSE: 275106.37828294875\n",
      "MAE: 237643.1917993316\n",
      "R²: 0.004262753227785576\n",
      "\n",
      "Test Performance:\n",
      "MSE: 77730241221.63719\n",
      "RMSE: 278801.4369074112\n",
      "MAE: 242073.70063296735\n",
      "R²: 0.000881598085305968\n"
     ]
    }
   ],
   "source": [
    "from sklearn.linear_model import ElasticNet\n",
    "from sklearn.metrics import mean_squared_error, mean_absolute_error, r2_score\n",
    "\n",
    "# Initialize ElasticNet (L1 + L2 regularization)\n",
    "l1_l2 = ElasticNet(alpha=1.0)\n",
    "l1_l2.fit(x_train, y_train)\n",
    "\n",
    "# Predictions on Training Data\n",
    "y_pred_train_l1_l2 = l1_l2.predict(x_train)\n",
    "\n",
    "# Metrics Calculation on Training Data\n",
    "mse_l1_l2_train = mean_squared_error(y_train, y_pred_train_l1_l2)\n",
    "rmse_l1_l2_train = mean_squared_error(y_train, y_pred_train_l1_l2, squared=False)  # Correct RMSE calculation\n",
    "mae_l1_l2_train = mean_absolute_error(y_train, y_pred_train_l1_l2)\n",
    "r2_l1_l2_train = r2_score(y_train, y_pred_train_l1_l2)\n",
    "\n",
    "# Printing Training Results\n",
    "print(\"Training Performance:\")\n",
    "print(\"MSE:\", mse_l1_l2_train)\n",
    "print(\"RMSE:\", rmse_l1_l2_train)\n",
    "print(\"MAE:\", mae_l1_l2_train)\n",
    "print(\"R²:\", r2_l1_l2_train)\n",
    "\n",
    "# Predictions on Test Data\n",
    "y_pred_test_l1_l2 = l1_l2.predict(x_test)\n",
    "\n",
    "# Metrics Calculation on Test Data\n",
    "mse_l1_l2_test = mean_squared_error(y_test, y_pred_test_l1_l2)\n",
    "rmse_l1_l2_test = mean_squared_error(y_test, y_pred_test_l1_l2, squared=False)  # Correct RMSE calculation\n",
    "mae_l1_l2_test = mean_absolute_error(y_test, y_pred_test_l1_l2)\n",
    "r2_l1_l2_test = r2_score(y_test, y_pred_test_l1_l2)\n",
    "\n",
    "# Printing Test Results\n",
    "print(\"\\nTest Performance:\")\n",
    "print(\"MSE:\", mse_l1_l2_test)\n",
    "print(\"RMSE:\", rmse_l1_l2_test)\n",
    "print(\"MAE:\", mae_l1_l2_test)\n",
    "print(\"R²:\", r2_l1_l2_test)\n"
   ]
  },
  {
   "cell_type": "code",
   "execution_count": null,
   "id": "679217cb-a5c5-413f-aa60-8193bf342c1f",
   "metadata": {},
   "outputs": [],
   "source": []
  },
  {
   "cell_type": "code",
   "execution_count": null,
   "id": "185269a4-9e3f-4853-a0d4-67fa73f87064",
   "metadata": {},
   "outputs": [],
   "source": []
  },
  {
   "cell_type": "markdown",
   "id": "a4a451a8-540d-4b31-8d60-71b47d4d6c0a",
   "metadata": {},
   "source": [
    "# Polynomial regression --- y = mx*2 + c"
   ]
  },
  {
   "cell_type": "code",
   "execution_count": 51,
   "id": "701ff7c8-ca32-4f74-88d7-29d65ea8ff64",
   "metadata": {},
   "outputs": [],
   "source": [
    "from sklearn.preprocessing import PolynomialFeatures"
   ]
  },
  {
   "cell_type": "code",
   "execution_count": 52,
   "id": "59f07975-7dd6-4d88-93d1-9b4626bd9f42",
   "metadata": {},
   "outputs": [],
   "source": [
    "poly = PolynomialFeatures(degree = 2)\n",
    "X_poly_train = poly.fit_transform(x_train)\n",
    "X_poly_test = poly.transform(x_test)"
   ]
  },
  {
   "cell_type": "code",
   "execution_count": 53,
   "id": "1d473d23-a016-4286-9e0c-108157a47653",
   "metadata": {},
   "outputs": [
    {
     "data": {
      "text/plain": [
       "10"
      ]
     },
     "execution_count": 53,
     "metadata": {},
     "output_type": "execute_result"
    }
   ],
   "source": [
    "x_train[0].size"
   ]
  },
  {
   "cell_type": "code",
   "execution_count": 54,
   "id": "02440af6-f31a-4653-b9de-1881ef5672f8",
   "metadata": {},
   "outputs": [
    {
     "data": {
      "text/plain": [
       "66"
      ]
     },
     "execution_count": 54,
     "metadata": {},
     "output_type": "execute_result"
    }
   ],
   "source": [
    "X_poly_train[0].size"
   ]
  },
  {
   "cell_type": "code",
   "execution_count": 55,
   "id": "334678af-7914-4d00-81f6-d249ac3494c9",
   "metadata": {},
   "outputs": [
    {
     "data": {
      "text/plain": [
       "array([1.216e+03, 3.000e+00, 2.000e+00, 1.000e+00, 1.947e+03, 0.000e+00,\n",
       "       0.000e+00, 1.000e+00, 0.000e+00, 0.000e+00])"
      ]
     },
     "execution_count": 55,
     "metadata": {},
     "output_type": "execute_result"
    }
   ],
   "source": [
    "x_train[0]"
   ]
  },
  {
   "cell_type": "code",
   "execution_count": 56,
   "id": "383b57c2-7806-4e14-97bd-b2ee982a8c9e",
   "metadata": {},
   "outputs": [
    {
     "data": {
      "text/plain": [
       "array([1.000000e+00, 1.216000e+03, 3.000000e+00, 2.000000e+00,\n",
       "       1.000000e+00, 1.947000e+03, 0.000000e+00, 0.000000e+00,\n",
       "       1.000000e+00, 0.000000e+00, 0.000000e+00, 1.478656e+06,\n",
       "       3.648000e+03, 2.432000e+03, 1.216000e+03, 2.367552e+06,\n",
       "       0.000000e+00, 0.000000e+00, 1.216000e+03, 0.000000e+00,\n",
       "       0.000000e+00, 9.000000e+00, 6.000000e+00, 3.000000e+00,\n",
       "       5.841000e+03, 0.000000e+00, 0.000000e+00, 3.000000e+00,\n",
       "       0.000000e+00, 0.000000e+00, 4.000000e+00, 2.000000e+00,\n",
       "       3.894000e+03, 0.000000e+00, 0.000000e+00, 2.000000e+00,\n",
       "       0.000000e+00, 0.000000e+00, 1.000000e+00, 1.947000e+03,\n",
       "       0.000000e+00, 0.000000e+00, 1.000000e+00, 0.000000e+00,\n",
       "       0.000000e+00, 3.790809e+06, 0.000000e+00, 0.000000e+00,\n",
       "       1.947000e+03, 0.000000e+00, 0.000000e+00, 0.000000e+00,\n",
       "       0.000000e+00, 0.000000e+00, 0.000000e+00, 0.000000e+00,\n",
       "       0.000000e+00, 0.000000e+00, 0.000000e+00, 0.000000e+00,\n",
       "       1.000000e+00, 0.000000e+00, 0.000000e+00, 0.000000e+00,\n",
       "       0.000000e+00, 0.000000e+00])"
      ]
     },
     "execution_count": 56,
     "metadata": {},
     "output_type": "execute_result"
    }
   ],
   "source": [
    "X_poly_train[0]"
   ]
  },
  {
   "cell_type": "code",
   "execution_count": 57,
   "id": "d7374135-0179-4af6-be73-6dd6521f5e67",
   "metadata": {},
   "outputs": [
    {
     "data": {
      "text/plain": [
       "array([501083.0464158 , 561443.70246614, 440790.74404364, ...,\n",
       "       556211.87861175, 520856.03632057, 524979.96019948])"
      ]
     },
     "execution_count": 57,
     "metadata": {},
     "output_type": "execute_result"
    }
   ],
   "source": [
    "poly_model = LinearRegression()\n",
    "poly_model.fit(X_poly_train, y_train)\n",
    "y_poly_pred = poly_model.predict(X_poly_train)\n",
    "y_poly_pred"
   ]
  },
  {
   "cell_type": "code",
   "execution_count": 58,
   "id": "0795d749-ad08-414e-a7b8-540b865e4471",
   "metadata": {},
   "outputs": [],
   "source": [
    "from sklearn.metrics import mean_squared_error, mean_absolute_error, r2_score"
   ]
  },
  {
   "cell_type": "code",
   "execution_count": 59,
   "id": "ed280096-6200-4988-8268-d12ae19ddfa0",
   "metadata": {},
   "outputs": [
    {
     "name": "stdout",
     "output_type": "stream",
     "text": [
      "MSE (Train): 75312989993.36847\n",
      "RMSE (Train): 274432.12274325406\n",
      "MAE (Train): 236584.88053280234\n",
      "R² Score (Train): 0.03396365078319996\n"
     ]
    }
   ],
   "source": [
    "mse_poly_train = mean_squared_error(y_train, y_poly_pred)  \n",
    "rmse_poly_train = mean_squared_error(y_train, y_poly_pred) ** 0.5  # RMSE is sqrt of MSE\n",
    "mae_poly_train = mean_absolute_error(y_train, y_poly_pred)  \n",
    "r2_poly_train = r2_score(y_train, y_poly_pred)  \n",
    "\n",
    "# Print results\n",
    "print(\"MSE (Train):\", mse_poly_train)\n",
    "print(\"RMSE (Train):\", rmse_poly_train)\n",
    "print(\"MAE (Train):\", mae_poly_train)\n",
    "print(\"R² Score (Train):\", r2_poly_train)"
   ]
  },
  {
   "cell_type": "code",
   "execution_count": null,
   "id": "45aeeed2-3a14-4e85-a78c-1c29239247e6",
   "metadata": {},
   "outputs": [],
   "source": []
  },
  {
   "cell_type": "code",
   "execution_count": 60,
   "id": "77dd1753-fc57-4079-97c6-2948def9788e",
   "metadata": {},
   "outputs": [],
   "source": [
    "# Test "
   ]
  },
  {
   "cell_type": "code",
   "execution_count": 61,
   "id": "7de487a7-75f4-4eec-a0f2-f15ca1623932",
   "metadata": {},
   "outputs": [],
   "source": [
    "y_poly_test_pred = poly_model.predict(X_poly_test)"
   ]
  },
  {
   "cell_type": "code",
   "execution_count": 62,
   "id": "3bef4590-6f1e-474e-b161-84fb1bfbdc6e",
   "metadata": {},
   "outputs": [
    {
     "name": "stdout",
     "output_type": "stream",
     "text": [
      "MSE (Test): 71079525770.92743\n",
      "RMSE (Test): 266607.43757616257\n",
      "MAE (Test): 225985.53925153724\n",
      "R² Score (Test): -0.01665829732307267\n"
     ]
    }
   ],
   "source": [
    "# Calculating evaluation metrics\n",
    "mse_poly_test = mean_squared_error(y_test, y_poly_test_pred)\n",
    "rmse_poly_test = mse_poly_test ** 0.5  # RMSE is the square root of MSE\n",
    "mae_poly_test = mean_absolute_error(y_test, y_poly_test_pred)\n",
    "r2_poly_test = r2_score(y_test, y_poly_test_pred)  # Corrected order\n",
    "\n",
    "# Printing the results\n",
    "print(\"MSE (Test):\", mse_poly_test)\n",
    "print(\"RMSE (Test):\", rmse_poly_test)\n",
    "print(\"MAE (Test):\", mae_poly_test)\n",
    "print(\"R² Score (Test):\", r2_poly_test)\n"
   ]
  },
  {
   "cell_type": "code",
   "execution_count": null,
   "id": "79349359-4dd9-4aea-940a-028176e466b6",
   "metadata": {},
   "outputs": [],
   "source": []
  },
  {
   "cell_type": "markdown",
   "id": "ecdb25e2-7394-42ca-956c-955fb0bc4b23",
   "metadata": {},
   "source": [
    "# KNN Regression"
   ]
  },
  {
   "cell_type": "code",
   "execution_count": 64,
   "id": "1ded3011-e0e7-436d-8dd7-b79be8fd96c9",
   "metadata": {},
   "outputs": [
    {
     "name": "stdout",
     "output_type": "stream",
     "text": [
      "Training Metrics:\n",
      "MSE: 62241443102.0991\n",
      "RMSE: 249482.35028173655\n",
      "MAE: 208717.44225000002\n",
      "R² Score: 0.2016317972552757\n",
      "\n",
      "Testing Metrics:\n",
      "MSE: 86206882360.0464\n",
      "RMSE: 293610.08558979444\n",
      "MAE: 249415.65\n",
      "R² Score: -0.23302654719655513\n"
     ]
    }
   ],
   "source": [
    "from sklearn.neighbors import KNeighborsRegressor\n",
    "from sklearn.metrics import mean_squared_error, mean_absolute_error, r2_score\n",
    "\n",
    "# Initialize and fit the KNN Regressor\n",
    "knn_r = KNeighborsRegressor(n_neighbors=5)\n",
    "knn_r.fit(x_train, y_train)\n",
    "\n",
    "# Predictions on Training Data\n",
    "y_train_knn = knn_r.predict(x_train)\n",
    "\n",
    "# Training Metrics\n",
    "mse_knn_train = mean_squared_error(y_train, y_train_knn)\n",
    "rmse_knn_train = mse_knn_train ** 0.5\n",
    "mae_knn_train = mean_absolute_error(y_train, y_train_knn)\n",
    "r2_knn_train = r2_score(y_train, y_train_knn)\n",
    "\n",
    "print(\"Training Metrics:\")\n",
    "print(\"MSE:\", mse_knn_train)\n",
    "print(\"RMSE:\", rmse_knn_train)\n",
    "print(\"MAE:\", mae_knn_train)\n",
    "print(\"R² Score:\", r2_knn_train)\n",
    "\n",
    "# Predictions on Test Data\n",
    "y_test_knn = knn_r.predict(x_test)\n",
    "\n",
    "# Testing Metrics\n",
    "mse_knn_test = mean_squared_error(y_test, y_test_knn)\n",
    "rmse_knn_test = mse_knn_test ** 0.5\n",
    "mae_knn_test = mean_absolute_error(y_test, y_test_knn)\n",
    "r2_knn_test = r2_score(y_test, y_test_knn)\n",
    "\n",
    "print(\"\\nTesting Metrics:\")\n",
    "print(\"MSE:\", mse_knn_test)\n",
    "print(\"RMSE:\", rmse_knn_test)\n",
    "print(\"MAE:\", mae_knn_test)\n",
    "print(\"R² Score:\", r2_knn_test)\n"
   ]
  },
  {
   "cell_type": "code",
   "execution_count": null,
   "id": "3805e309-b591-4746-85e1-cca2d902297e",
   "metadata": {},
   "outputs": [],
   "source": []
  },
  {
   "cell_type": "markdown",
   "id": "e72facf4-e98b-43ad-87b1-0b6afabb471d",
   "metadata": {},
   "source": [
    "# Support Vector Regression"
   ]
  },
  {
   "cell_type": "code",
   "execution_count": 66,
   "id": "cc0b3475-54b7-4086-ac8f-8f8f617a1e87",
   "metadata": {},
   "outputs": [
    {
     "name": "stdout",
     "output_type": "stream",
     "text": [
      "Training Metrics:\n",
      "MSE: 77976591027.4183\n",
      "RMSE: 279242.8889469136\n",
      "MAE: 242440.25955444865\n",
      "R² Score: -0.00020224037223237623\n",
      "\n",
      "Testing Metrics:\n",
      "MSE: 69979456910.77007\n",
      "RMSE: 264536.3054682099\n",
      "MAE: 225485.53196873146\n",
      "R² Score: -0.000923891076328287\n"
     ]
    }
   ],
   "source": [
    "from sklearn.svm import SVR\n",
    "from sklearn.metrics import mean_squared_error, mean_absolute_error, r2_score\n",
    "\n",
    "# Initialize and fit the SVR model\n",
    "svr = SVR()\n",
    "svr.fit(x_train, y_train)\n",
    "\n",
    "# Predictions on Training Data\n",
    "y_train_svr = svr.predict(x_train)\n",
    "\n",
    "# Training Metrics\n",
    "mse_svr_train = mean_squared_error(y_train, y_train_svr)  # Corrected order\n",
    "rmse_svr_train = mse_svr_train ** 0.5  # Taking square root for RMSE\n",
    "mae_svr_train = mean_absolute_error(y_train, y_train_svr)\n",
    "r2_svr_train = r2_score(y_train, y_train_svr)\n",
    "\n",
    "print(\"Training Metrics:\")\n",
    "print(\"MSE:\", mse_svr_train)\n",
    "print(\"RMSE:\", rmse_svr_train)\n",
    "print(\"MAE:\", mae_svr_train)\n",
    "print(\"R² Score:\", r2_svr_train)\n",
    "\n",
    "# Predictions on Test Data\n",
    "y_test_svr = svr.predict(x_test)\n",
    "\n",
    "# Testing Metrics\n",
    "mse_svr_test = mean_squared_error(y_test, y_test_svr)\n",
    "rmse_svr_test = mse_svr_test ** 0.5\n",
    "mae_svr_test = mean_absolute_error(y_test, y_test_svr)\n",
    "r2_svr_test = r2_score(y_test, y_test_svr)\n",
    "\n",
    "print(\"\\nTesting Metrics:\")\n",
    "print(\"MSE:\", mse_svr_test)\n",
    "print(\"RMSE:\", rmse_svr_test)\n",
    "print(\"MAE:\", mae_svr_test)\n",
    "print(\"R² Score:\", r2_svr_test)\n"
   ]
  },
  {
   "cell_type": "code",
   "execution_count": null,
   "id": "efe51425-f766-48d5-8012-9f26ad40b704",
   "metadata": {},
   "outputs": [],
   "source": []
  },
  {
   "cell_type": "markdown",
   "id": "c6732989-41da-40c5-a89c-534d4d924e37",
   "metadata": {},
   "source": [
    "# Decision tree regressor"
   ]
  },
  {
   "cell_type": "code",
   "execution_count": 69,
   "id": "36262d36-a0ec-48f1-b807-e08f3d3247d3",
   "metadata": {},
   "outputs": [
    {
     "name": "stdout",
     "output_type": "stream",
     "text": [
      "Training Metrics:\n",
      "MSE: 50497289545.56944\n",
      "RMSE: 224716.01977956409\n",
      "MAE: 167837.78971594886\n",
      "R² Score: 0.35227352887940044\n",
      "\n",
      "Testing Metrics:\n",
      "MSE: 92513934603.94145\n",
      "RMSE: 304161.03399998735\n",
      "MAE: 246915.1649646245\n",
      "R² Score: -0.323237011122141\n"
     ]
    }
   ],
   "source": [
    "from sklearn.tree import DecisionTreeRegressor\n",
    "from sklearn.metrics import mean_squared_error, mean_absolute_error, r2_score\n",
    "\n",
    "# Initialize and fit the Decision Tree Regressor\n",
    "dtree = DecisionTreeRegressor(max_depth= 10, random_state=0)\n",
    "dtree.fit(x_train, y_train)\n",
    "\n",
    "# Predictions on Training Data\n",
    "y_train_dtree = dtree.predict(x_train)\n",
    "\n",
    "# Training Metrics\n",
    "mse_dtree_train = mean_squared_error(y_train, y_train_dtree)  # Corrected order\n",
    "rmse_dtree_train = mse_dtree_train ** 0.5  # Taking square root for RMSE\n",
    "mae_dtree_train = mean_absolute_error(y_train, y_train_dtree)\n",
    "r2_dtree_train = r2_score(y_train, y_train_dtree)\n",
    "\n",
    "print(\"Training Metrics:\")\n",
    "print(\"MSE:\", mse_dtree_train)\n",
    "print(\"RMSE:\", rmse_dtree_train)\n",
    "print(\"MAE:\", mae_dtree_train)\n",
    "print(\"R² Score:\", r2_dtree_train)\n",
    "\n",
    "# Predictions on Test Data\n",
    "y_test_dtree = dtree.predict(x_test)\n",
    "\n",
    "# Testing Metrics\n",
    "mse_dtree_test = mean_squared_error(y_test, y_test_dtree)\n",
    "rmse_dtree_test = mse_dtree_test ** 0.5\n",
    "mae_dtree_test = mean_absolute_error(y_test, y_test_dtree)\n",
    "r2_dtree_test = r2_score(y_test, y_test_dtree)\n",
    "\n",
    "print(\"\\nTesting Metrics:\")\n",
    "print(\"MSE:\", mse_dtree_test)\n",
    "print(\"RMSE:\", rmse_dtree_test)\n",
    "print(\"MAE:\", mae_dtree_test)\n",
    "print(\"R² Score:\", r2_dtree_test)\n"
   ]
  },
  {
   "cell_type": "code",
   "execution_count": null,
   "id": "b759d746-0a85-4bae-9e75-c775da3a3067",
   "metadata": {},
   "outputs": [],
   "source": []
  },
  {
   "cell_type": "markdown",
   "id": "0d4fd181-4046-42ea-bc2c-958c68f6edc4",
   "metadata": {},
   "source": [
    "# Random forest regressor"
   ]
  },
  {
   "cell_type": "code",
   "execution_count": 71,
   "id": "7bd59e3e-c3a5-4c26-9759-dfbcc5486ef9",
   "metadata": {},
   "outputs": [
    {
     "name": "stdout",
     "output_type": "stream",
     "text": [
      "Training Metrics:\n",
      "MSE: 12851865341.98795\n",
      "RMSE: 113366.0678597787\n",
      "MAE: 96456.74928959832\n",
      "R² Score: 0.8351496989205558\n",
      "\n",
      "Testing Metrics:\n",
      "MSE: 73752241648.846\n",
      "RMSE: 271573.6394587037\n",
      "MAE: 231647.20535501343\n",
      "R² Score: -0.054886447331136345\n"
     ]
    }
   ],
   "source": [
    "from sklearn.ensemble import RandomForestRegressor\n",
    "from sklearn.metrics import mean_squared_error, mean_absolute_error, r2_score\n",
    "\n",
    "# Initialize and fit the Random Forest Regressor\n",
    "forest = RandomForestRegressor(max_depth= 20, n_estimators=100, random_state=0)\n",
    "forest.fit(x_train, y_train)\n",
    "\n",
    "# Predictions on Training Data\n",
    "y_train_forest = forest.predict(x_train)\n",
    "\n",
    "# Training Metrics\n",
    "mse_forest_train = mean_squared_error(y_train, y_train_forest)  # Corrected order\n",
    "rmse_forest_train = mse_forest_train ** 0.5  # Taking square root for RMSE\n",
    "mae_forest_train = mean_absolute_error(y_train, y_train_forest)\n",
    "r2_forest_train = r2_score(y_train, y_train_forest)\n",
    "\n",
    "print(\"Training Metrics:\")\n",
    "print(\"MSE:\", mse_forest_train)\n",
    "print(\"RMSE:\", rmse_forest_train)\n",
    "print(\"MAE:\", mae_forest_train)\n",
    "print(\"R² Score:\", r2_forest_train)\n",
    "\n",
    "# Predictions on Test Data\n",
    "y_test_forest = forest.predict(x_test)\n",
    "\n",
    "# Testing Metrics\n",
    "mse_forest_test = mean_squared_error(y_test, y_test_forest)\n",
    "rmse_forest_test = mse_forest_test ** 0.5\n",
    "mae_forest_test = mean_absolute_error(y_test, y_test_forest)\n",
    "r2_forest_test = r2_score(y_test, y_test_forest)\n",
    "\n",
    "print(\"\\nTesting Metrics:\")\n",
    "print(\"MSE:\", mse_forest_test)\n",
    "print(\"RMSE:\", rmse_forest_test)\n",
    "print(\"MAE:\", mae_forest_test)\n",
    "print(\"R² Score:\", r2_forest_test)\n"
   ]
  },
  {
   "cell_type": "code",
   "execution_count": null,
   "id": "31dd0523-8525-4c0c-84d2-353289f3b8a6",
   "metadata": {},
   "outputs": [],
   "source": []
  },
  {
   "cell_type": "markdown",
   "id": "8013dd13-1222-4be9-b9d9-9d6ff7977598",
   "metadata": {},
   "source": [
    "# Xgboost regression"
   ]
  },
  {
   "cell_type": "code",
   "execution_count": 72,
   "id": "d9a3c123-5ce9-444f-a632-d908b1dd1a72",
   "metadata": {},
   "outputs": [
    {
     "name": "stdout",
     "output_type": "stream",
     "text": [
      "Train Performance:\n",
      "MSE: 23420337599.61147\n",
      "RMSE: 153037.04649401552\n",
      "MAE: 125017.60021484375\n",
      "R²: 0.6995883786562477\n",
      "\n",
      "Test Performance:\n",
      "MSE: 80384226888.2018\n",
      "RMSE: 283521.1224727389\n",
      "MAE: 240470.7443359375\n",
      "R²: -0.14974446373159145\n"
     ]
    }
   ],
   "source": [
    "from xgboost import XGBRegressor\n",
    "from sklearn.metrics import mean_squared_error, mean_absolute_error, r2_score\n",
    "\n",
    "# Initialize XGBoost Regressor\n",
    "xgb_model = XGBRegressor(objective='reg:squarederror', n_estimators=100, learning_rate=0.1, max_depth=6, random_state=42)\n",
    "\n",
    "# Train the model\n",
    "xgb_model.fit(x_train, y_train)\n",
    "\n",
    "# Make predictions\n",
    "y_pred_train_xgb = xgb_model.predict(x_train)\n",
    "y_pred_test_xgb = xgb_model.predict(x_test)\n",
    "\n",
    "# Evaluate Model Performance\n",
    "mse_xgb_train = mean_squared_error(y_train, y_pred_train_xgb)\n",
    "rmse_xgb_train = mse_xgb_train ** 0.5\n",
    "mae_xgb_train = mean_absolute_error(y_train, y_pred_train_xgb)\n",
    "r2_xgb_train = r2_score(y_train, y_pred_train_xgb)\n",
    "\n",
    "mse_xgb_test = mean_squared_error(y_test, y_pred_test_xgb)\n",
    "rmse_xgb_test = mse_xgb_test ** 0.5\n",
    "mae_xgb_test = mean_absolute_error(y_test, y_pred_test_xgb)\n",
    "r2_xgb_test = r2_score(y_test, y_pred_test_xgb)\n",
    "\n",
    "# Print results\n",
    "print(\"Train Performance:\")\n",
    "print(\"MSE:\", mse_xgb_train)\n",
    "print(\"RMSE:\", rmse_xgb_train)\n",
    "print(\"MAE:\", mae_xgb_train)\n",
    "print(\"R²:\", r2_xgb_train)\n",
    "\n",
    "print(\"\\nTest Performance:\")\n",
    "print(\"MSE:\", mse_xgb_test)\n",
    "print(\"RMSE:\", rmse_xgb_test)\n",
    "print(\"MAE:\", mae_xgb_test)\n",
    "print(\"R²:\", r2_xgb_test)"
   ]
  },
  {
   "cell_type": "code",
   "execution_count": null,
   "id": "34da13aa-426a-49aa-972e-8444cd5e3e57",
   "metadata": {},
   "outputs": [],
   "source": []
  },
  {
   "cell_type": "code",
   "execution_count": null,
   "id": "eab99c60-e4fa-4a33-ace4-905c525856a3",
   "metadata": {},
   "outputs": [],
   "source": []
  },
  {
   "cell_type": "code",
   "execution_count": null,
   "id": "fe7d09ed-3583-4a35-bb5e-a6d0ac6322e5",
   "metadata": {},
   "outputs": [],
   "source": []
  },
  {
   "cell_type": "code",
   "execution_count": null,
   "id": "a555e40d-c0d8-4aa2-8e53-80b216fd8446",
   "metadata": {},
   "outputs": [],
   "source": []
  },
  {
   "cell_type": "code",
   "execution_count": null,
   "id": "48d9c297-ae66-43bd-89c4-7f62f3ada696",
   "metadata": {},
   "outputs": [],
   "source": []
  },
  {
   "cell_type": "code",
   "execution_count": null,
   "id": "7187b4e0-f2a6-4fe9-9b40-c94548d0fd0e",
   "metadata": {},
   "outputs": [],
   "source": []
  }
 ],
 "metadata": {
  "kernelspec": {
   "display_name": "Python 3 (ipykernel)",
   "language": "python",
   "name": "python3"
  },
  "language_info": {
   "codemirror_mode": {
    "name": "ipython",
    "version": 3
   },
   "file_extension": ".py",
   "mimetype": "text/x-python",
   "name": "python",
   "nbconvert_exporter": "python",
   "pygments_lexer": "ipython3",
   "version": "3.11.7"
  }
 },
 "nbformat": 4,
 "nbformat_minor": 5
}
